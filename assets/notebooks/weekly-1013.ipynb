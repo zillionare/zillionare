{
 "cells": [
  {
   "cell_type": "code",
   "execution_count": 2,
   "metadata": {},
   "outputs": [
    {
     "data": {
      "text/plain": [
       "array([2., 3., 1., 2., 3., 1., 2., 1., 1., 3., 1., 1., 1., 1., 3., 3., 1.,\n",
       "       3., 1., 2., 3., 0.])"
      ]
     },
     "execution_count": 2,
     "metadata": {},
     "output_type": "execute_result"
    }
   ],
   "source": [
    "import numpy as np\n",
    "from numpy.typing import ArrayLike\n",
    "\n",
    "def mad_clip(arr: ArrayLike, k: int = 3):\n",
    "    med = np.median(arr)\n",
    "    mad = np.median(np.abs(arr - med))\n",
    "    \n",
    "    return np.clip(arr, med - k * mad, med + k * mad)\n",
    "\n",
    "np.random.seed(78)\n",
    "arr = np.append(np.random.randint(1, 4, 20), [15, -10])\n",
    "mad_clip(arr, 3)"
   ]
  },
  {
   "cell_type": "code",
   "execution_count": 10,
   "metadata": {},
   "outputs": [
    {
     "data": {
      "text/html": [
       "<div>\n",
       "<style scoped>\n",
       "    .dataframe tbody tr th:only-of-type {\n",
       "        vertical-align: middle;\n",
       "    }\n",
       "\n",
       "    .dataframe tbody tr th {\n",
       "        vertical-align: top;\n",
       "    }\n",
       "\n",
       "    .dataframe thead th {\n",
       "        text-align: right;\n",
       "    }\n",
       "</style>\n",
       "<table border=\"1\" class=\"dataframe\">\n",
       "  <thead>\n",
       "    <tr style=\"text-align: right;\">\n",
       "      <th>asset</th>\n",
       "      <th>002095.XSHE</th>\n",
       "      <th>003042.XSHE</th>\n",
       "      <th>300099.XSHE</th>\n",
       "      <th>301060.XSHE</th>\n",
       "      <th>601689.XSHG</th>\n",
       "      <th>603255.XSHG</th>\n",
       "      <th>688669.XSHG</th>\n",
       "    </tr>\n",
       "    <tr>\n",
       "      <th>date</th>\n",
       "      <th></th>\n",
       "      <th></th>\n",
       "      <th></th>\n",
       "      <th></th>\n",
       "      <th></th>\n",
       "      <th></th>\n",
       "      <th></th>\n",
       "    </tr>\n",
       "  </thead>\n",
       "  <tbody>\n",
       "    <tr>\n",
       "      <th>2023-12-25</th>\n",
       "      <td>23.400000</td>\n",
       "      <td>18.090000</td>\n",
       "      <td>6.10</td>\n",
       "      <td>13.00</td>\n",
       "      <td>73.910004</td>\n",
       "      <td>36.799999</td>\n",
       "      <td>18.080000</td>\n",
       "    </tr>\n",
       "    <tr>\n",
       "      <th>2023-12-26</th>\n",
       "      <td>21.059999</td>\n",
       "      <td>17.520000</td>\n",
       "      <td>5.94</td>\n",
       "      <td>12.83</td>\n",
       "      <td>72.879997</td>\n",
       "      <td>37.000000</td>\n",
       "      <td>18.080000</td>\n",
       "    </tr>\n",
       "    <tr>\n",
       "      <th>2023-12-27</th>\n",
       "      <td>20.070000</td>\n",
       "      <td>17.590000</td>\n",
       "      <td>6.04</td>\n",
       "      <td>12.84</td>\n",
       "      <td>72.000000</td>\n",
       "      <td>36.840000</td>\n",
       "      <td>18.049999</td>\n",
       "    </tr>\n",
       "    <tr>\n",
       "      <th>2023-12-28</th>\n",
       "      <td>20.010000</td>\n",
       "      <td>18.139999</td>\n",
       "      <td>6.11</td>\n",
       "      <td>13.14</td>\n",
       "      <td>72.199997</td>\n",
       "      <td>38.150002</td>\n",
       "      <td>18.440001</td>\n",
       "    </tr>\n",
       "    <tr>\n",
       "      <th>2023-12-29</th>\n",
       "      <td>20.270000</td>\n",
       "      <td>18.580000</td>\n",
       "      <td>6.19</td>\n",
       "      <td>13.29</td>\n",
       "      <td>73.500000</td>\n",
       "      <td>37.299999</td>\n",
       "      <td>18.740000</td>\n",
       "    </tr>\n",
       "  </tbody>\n",
       "</table>\n",
       "</div>"
      ],
      "text/plain": [
       "asset       002095.XSHE  003042.XSHE  300099.XSHE  301060.XSHE  601689.XSHG  \\\n",
       "date                                                                          \n",
       "2023-12-25    23.400000    18.090000         6.10        13.00    73.910004   \n",
       "2023-12-26    21.059999    17.520000         5.94        12.83    72.879997   \n",
       "2023-12-27    20.070000    17.590000         6.04        12.84    72.000000   \n",
       "2023-12-28    20.010000    18.139999         6.11        13.14    72.199997   \n",
       "2023-12-29    20.270000    18.580000         6.19        13.29    73.500000   \n",
       "\n",
       "asset       603255.XSHG  688669.XSHG  \n",
       "date                                  \n",
       "2023-12-25    36.799999    18.080000  \n",
       "2023-12-26    37.000000    18.080000  \n",
       "2023-12-27    36.840000    18.049999  \n",
       "2023-12-28    38.150002    18.440001  \n",
       "2023-12-29    37.299999    18.740000  "
      ]
     },
     "execution_count": 10,
     "metadata": {},
     "output_type": "execute_result"
    }
   ],
   "source": [
    "def mad_clip(df: Union[NDArray, pd.DataFrame], k: int = 3, axis=1):\n",
    "    \"\"\"使用 MAD 3 倍截断法去极值\n",
    "    \n",
    "    Args:\n",
    "        df: 输入数据，要求索引为日期，资产名为列，单元格值为因子的宽表\n",
    "        k: 截断倍数。\n",
    "        axis: 截断方向\n",
    "    \"\"\"\n",
    "\n",
    "    med = np.median(df, axis=axis).reshape(df.shape[0], -1)\n",
    "    mad = np.median(np.abs(df - med), axis=axis)\n",
    "\n",
    "    return np.clip(df.T, med.flatten() - k * 1.4826 * mad, med.flatten() + k * 1.4826 * mad).T\n",
    "\n",
    "start = datetime.date(2023, 1, 1)\n",
    "end = datetime.date(2023, 12, 29)\n",
    "barss = load_bars(start, end, 7)\n",
    "\n",
    "closes = barss[\"close\"].unstack(\"asset\").iloc[-5:]\n",
    "closes"
   ]
  },
  {
   "cell_type": "code",
   "execution_count": 11,
   "metadata": {},
   "outputs": [
    {
     "data": {
      "text/html": [
       "<div>\n",
       "<style scoped>\n",
       "    .dataframe tbody tr th:only-of-type {\n",
       "        vertical-align: middle;\n",
       "    }\n",
       "\n",
       "    .dataframe tbody tr th {\n",
       "        vertical-align: top;\n",
       "    }\n",
       "\n",
       "    .dataframe thead th {\n",
       "        text-align: right;\n",
       "    }\n",
       "</style>\n",
       "<table border=\"1\" class=\"dataframe\">\n",
       "  <thead>\n",
       "    <tr style=\"text-align: right;\">\n",
       "      <th>asset</th>\n",
       "      <th>002095.XSHE</th>\n",
       "      <th>003042.XSHE</th>\n",
       "      <th>300099.XSHE</th>\n",
       "      <th>301060.XSHE</th>\n",
       "      <th>601689.XSHG</th>\n",
       "      <th>603255.XSHG</th>\n",
       "      <th>688669.XSHG</th>\n",
       "    </tr>\n",
       "    <tr>\n",
       "      <th>date</th>\n",
       "      <th></th>\n",
       "      <th></th>\n",
       "      <th></th>\n",
       "      <th></th>\n",
       "      <th></th>\n",
       "      <th></th>\n",
       "      <th></th>\n",
       "    </tr>\n",
       "  </thead>\n",
       "  <tbody>\n",
       "    <tr>\n",
       "      <th>2023-12-25</th>\n",
       "      <td>23.400000</td>\n",
       "      <td>18.090000</td>\n",
       "      <td>10.217396</td>\n",
       "      <td>13.00</td>\n",
       "      <td>25.962605</td>\n",
       "      <td>25.962605</td>\n",
       "      <td>18.080000</td>\n",
       "    </tr>\n",
       "    <tr>\n",
       "      <th>2023-12-26</th>\n",
       "      <td>21.059999</td>\n",
       "      <td>17.520000</td>\n",
       "      <td>10.296350</td>\n",
       "      <td>12.83</td>\n",
       "      <td>25.863649</td>\n",
       "      <td>25.863649</td>\n",
       "      <td>18.080000</td>\n",
       "    </tr>\n",
       "    <tr>\n",
       "      <th>2023-12-27</th>\n",
       "      <td>20.070000</td>\n",
       "      <td>17.590000</td>\n",
       "      <td>10.325655</td>\n",
       "      <td>12.84</td>\n",
       "      <td>25.774343</td>\n",
       "      <td>25.774343</td>\n",
       "      <td>18.049999</td>\n",
       "    </tr>\n",
       "    <tr>\n",
       "      <th>2023-12-28</th>\n",
       "      <td>20.010000</td>\n",
       "      <td>18.139999</td>\n",
       "      <td>10.582220</td>\n",
       "      <td>13.14</td>\n",
       "      <td>26.297781</td>\n",
       "      <td>26.297781</td>\n",
       "      <td>18.440001</td>\n",
       "    </tr>\n",
       "    <tr>\n",
       "      <th>2023-12-29</th>\n",
       "      <td>20.270000</td>\n",
       "      <td>18.580000</td>\n",
       "      <td>10.659830</td>\n",
       "      <td>13.29</td>\n",
       "      <td>26.820169</td>\n",
       "      <td>26.820169</td>\n",
       "      <td>18.740000</td>\n",
       "    </tr>\n",
       "  </tbody>\n",
       "</table>\n",
       "</div>"
      ],
      "text/plain": [
       "asset       002095.XSHE  003042.XSHE  300099.XSHE  301060.XSHE  601689.XSHG  \\\n",
       "date                                                                          \n",
       "2023-12-25    23.400000    18.090000    10.217396        13.00    25.962605   \n",
       "2023-12-26    21.059999    17.520000    10.296350        12.83    25.863649   \n",
       "2023-12-27    20.070000    17.590000    10.325655        12.84    25.774343   \n",
       "2023-12-28    20.010000    18.139999    10.582220        13.14    26.297781   \n",
       "2023-12-29    20.270000    18.580000    10.659830        13.29    26.820169   \n",
       "\n",
       "asset       603255.XSHG  688669.XSHG  \n",
       "date                                  \n",
       "2023-12-25    25.962605    18.080000  \n",
       "2023-12-26    25.863649    18.080000  \n",
       "2023-12-27    25.774343    18.049999  \n",
       "2023-12-28    26.297781    18.440001  \n",
       "2023-12-29    26.820169    18.740000  "
      ]
     },
     "execution_count": 11,
     "metadata": {},
     "output_type": "execute_result"
    }
   ],
   "source": [
    "mad_clip(closes,k=1)"
   ]
  },
  {
   "cell_type": "code",
   "execution_count": 13,
   "metadata": {},
   "outputs": [
    {
     "data": {
      "text/plain": [
       "array([0, 0, 0, 2, 0, 0])"
      ]
     },
     "execution_count": 13,
     "metadata": {},
     "output_type": "execute_result"
    }
   ],
   "source": [
    "def LOWRANGE(S):                       \n",
    "    # LOWRANGE(LOW)表示当前最低价是近多少周期内最低价的最小值 by jqz1226\n",
    "    rt = np.zeros(len(S))\n",
    "    for i in range(1,len(S)):  rt[i] = np.argmin(np.flipud(S[:i]>S[i]))\n",
    "    return rt.astype('int')\n",
    "\n",
    "s = [ 1, 2, 2, 1, 3, 0]\n",
    "\n",
    "LOWRANGE(np.array(s))"
   ]
  },
  {
   "cell_type": "code",
   "execution_count": 14,
   "metadata": {},
   "outputs": [
    {
     "data": {
      "text/plain": [
       "array([1, 1, 2, 3, 4, 1, 6])"
      ]
     },
     "execution_count": 14,
     "metadata": {},
     "output_type": "execute_result"
    }
   ],
   "source": [
    "def min_range(s):\n",
    "    \"\"\"计算序列s中，元素i是此前多少个周期以来的最小值\n",
    "\n",
    "    此方法在个别数字上有bug\n",
    "\n",
    "    Example:\n",
    "        >>> s = np.array([5, 7, 7, 6, 5, 8, 2])\n",
    "        >>> min_range(s)\n",
    "        array([1, 2, 1, 2, 3, 1, 6])\n",
    "    \"\"\"\n",
    "    n = len(s)\n",
    "\n",
    "    # handle nan\n",
    "    filled = np.where(np.isnan(s), -np.inf, s)\n",
    "    diff = filled[:,None] - filled\n",
    "    mask = np.triu(np.ones((n, n), dtype=bool), k=1)\n",
    "    masked = np.ma.array(diff, mask=mask)\n",
    "\n",
    "    rng = np.arange(n)\n",
    "    ret = rng - np.argmax(np.ma.where(masked > 0, rng, -1), axis=1)\n",
    "    ret[0] = 1\n",
    "    if filled[1] <= filled[0]:\n",
    "        ret[1] = 2\n",
    "    return ret\n",
    "\n",
    "s = np.array([5, 7, 7, 6, 5, 8, 2])\n",
    "min_range(s)"
   ]
  },
  {
   "cell_type": "code",
   "execution_count": 16,
   "metadata": {},
   "outputs": [
    {
     "data": {
      "text/plain": [
       "array([nan, nan,  1.,  2.,  3.])"
      ]
     },
     "execution_count": 16,
     "metadata": {},
     "output_type": "execute_result"
    }
   ],
   "source": [
    "def moving_average(ts, win: int, padding=True)->np.ndarray:\n",
    "    kernel = np.ones(win) / win\n",
    "\n",
    "    arr = np.convolve(ts, kernel, 'valid')\n",
    "    if padding:\n",
    "        return np.insert(arr, 0, [np.nan] * (win - 1))\n",
    "    else:\n",
    "        return arr\n",
    "\n",
    "moving_average(np.arange(5), 3)"
   ]
  },
  {
   "cell_type": "code",
   "execution_count": 21,
   "metadata": {},
   "outputs": [
    {
     "data": {
      "text/plain": [
       "date        asset      \n",
       "2023-01-03  002457.XSHE    8.310465\n",
       "2023-01-04  002457.XSHE    8.361222\n",
       "2023-01-05  002457.XSHE    8.381415\n",
       "2023-01-06  002457.XSHE    8.386454\n",
       "2023-01-09  002457.XSHE    8.382696\n",
       "                             ...   \n",
       "2023-12-25  002457.XSHE    9.559288\n",
       "2023-12-26  002457.XSHE    9.566473\n",
       "2023-12-27  002457.XSHE    9.566579\n",
       "2023-12-28  002457.XSHE    9.563042\n",
       "2023-12-29  002457.XSHE    9.561609\n",
       "Length: 241, dtype: float64"
      ]
     },
     "execution_count": 21,
     "metadata": {},
     "output_type": "execute_result"
    }
   ],
   "source": [
    "def intraday_moving_average(bars: pd.DataFrame)->np.ndarray:\n",
    "    acc_vol = bars[\"volume\"].cumsum()\n",
    "    acc_money = barss[\"amount\"].cumsum()\n",
    "\n",
    "    return acc_money / acc_vol\n",
    "\n",
    "start = datetime.date(2023, 1, 1)\n",
    "end = datetime.date(2023, 12, 29)\n",
    "barss = load_bars(start, end, 1)\n",
    "\n",
    "intraday_moving_average(barss)"
   ]
  },
  {
   "cell_type": "code",
   "execution_count": 29,
   "metadata": {},
   "outputs": [
    {
     "name": "stdout",
     "output_type": "stream",
     "text": [
      "104 μs ± 2.73 μs per loop (mean ± std. dev. of 7 runs, 10,000 loops each)\n"
     ]
    },
    {
     "data": {
      "image/png": "[encoded data removed]",
      "text/plain": [
       "<Figure size 640x480 with 1 Axes>"
      ]
     },
     "metadata": {},
     "output_type": "display_data"
    }
   ],
   "source": [
    "from numpy.lib.stride_tricks import as_strided\n",
    "import matplotlib.pyplot as plt\n",
    "\n",
    "\n",
    "def windowed_view(x, window_size):\n",
    "    \"\"\"Creat a 2d windowed view of a 1d array.\n",
    "\n",
    "    `x` must be a 1d numpy array.\n",
    "\n",
    "    `numpy.lib.stride_tricks.as_strided` is used to create the view.\n",
    "    The data is not copied.\n",
    "\n",
    "    Example:\n",
    "\n",
    "    >>> x = np.array([1, 2, 3, 4, 5, 6])\n",
    "    >>> windowed_view(x, 3)\n",
    "    array([[1, 2, 3],\n",
    "           [2, 3, 4],\n",
    "           [3, 4, 5],\n",
    "           [4, 5, 6]])\n",
    "    \"\"\"\n",
    "    y = as_strided(x, shape=(x.size - window_size + 1, window_size),\n",
    "                   strides=(x.strides[0], x.strides[0]))\n",
    "    return y\n",
    "\n",
    "\n",
    "def rolling_max_dd(x, window_size, min_periods=1):\n",
    "    \"\"\"Compute the rolling maximum drawdown of `x`.\n",
    "\n",
    "    `x` must be a 1d numpy array.\n",
    "    `min_periods` should satisfy `1 <= min_periods <= window_size`.\n",
    "\n",
    "    Returns an 1d array with length `len(x) - min_periods + 1`.\n",
    "    \"\"\"\n",
    "    if min_periods < window_size:\n",
    "        pad = np.empty(window_size - min_periods)\n",
    "        pad.fill(x[0])\n",
    "        x = np.concatenate((pad, x))\n",
    "    y = windowed_view(x, window_size)\n",
    "    running_max_y = np.maximum.accumulate(y, axis=1)\n",
    "    dd = y - running_max_y\n",
    "    return dd.min(axis=1)\n",
    "\n",
    "\n",
    "np.random.seed(0)\n",
    "n = 100\n",
    "s = np.random.randn(n).cumsum()\n",
    "win = 20\n",
    "\n",
    "mdd = rolling_max_dd(s, win, min_periods=1)\n",
    "\n",
    "plt.plot(s, 'b')\n",
    "plt.plot(mdd, 'g.')\n",
    "\n",
    "plt.show()"
   ]
  },
  {
   "cell_type": "code",
   "execution_count": 37,
   "metadata": {},
   "outputs": [
    {
     "data": {
      "text/plain": [
       "'%.2f'"
      ]
     },
     "execution_count": 37,
     "metadata": {},
     "output_type": "execute_result"
    },
    {
     "data": {
      "text/plain": [
       "array([2.09, 2.27, 2.21, 2.12, 2.19])"
      ]
     },
     "execution_count": 37,
     "metadata": {},
     "output_type": "execute_result"
    },
    {
     "data": {
      "text/plain": [
       "array([-1.68, -2.4 , -1.97, -1.7 , -1.46])"
      ]
     },
     "execution_count": 37,
     "metadata": {},
     "output_type": "execute_result"
    }
   ],
   "source": [
    "%precision 2\n",
    "\n",
    "from IPython.core.interactiveshell import InteractiveShell\n",
    "InteractiveShell.ast_node_interactivity = \"all\"\n",
    "\n",
    "np.random.seed(78)\n",
    "s = np.random.randn(100)\n",
    "\n",
    "hbound = np.percentile(s, 95)\n",
    "lbound = np.percentile(s, 5)\n",
    "\n",
    "s[s> hbound]\n",
    "s[s< lbound]"
   ]
  },
  {
   "cell_type": "code",
   "execution_count": 33,
   "metadata": {},
   "outputs": [
    {
     "data": {
      "text/plain": [
       "array([2.52636824, 1.76992139, 1.64850401, 1.63159743, 1.8219151 ,\n",
       "       1.90506364])"
      ]
     },
     "execution_count": 33,
     "metadata": {},
     "output_type": "execute_result"
    }
   ],
   "source": [
    "s[s>1.63]"
   ]
  },
  {
   "cell_type": "code",
   "execution_count": 115,
   "metadata": {},
   "outputs": [
    {
     "data": {
      "text/plain": [
       "[1, 1, 2, 1, 4, 6]"
      ]
     },
     "execution_count": 115,
     "metadata": {},
     "output_type": "execute_result"
    }
   ],
   "source": [
    "def min_range_loop(s):\n",
    "    minranges = [1]\n",
    "    for i in range(1, len(s)):\n",
    "        for j in range(i-1, -1, -1):\n",
    "            if s[j] < s[i]:\n",
    "                minranges.append(i - j)\n",
    "                break\n",
    "        else:\n",
    "            minranges.append(i+1)\n",
    "    return minranges\n",
    "\n",
    "# s = np.random.randn(10000)\n",
    "\n",
    "min_range_loop(s)\n"
   ]
  },
  {
   "cell_type": "code",
   "execution_count": 63,
   "metadata": {},
   "outputs": [
    {
     "name": "stdout",
     "output_type": "stream",
     "text": [
      "60.4 ms ± 2.02 ms per loop (mean ± std. dev. of 7 runs, 10 loops each)\n"
     ]
    }
   ],
   "source": [
    "def LOWRANGE(S):                       \n",
    "    # LOWRANGE(LOW)表示当前最低价是近多少周期内最低价的最小值 by jqz1226\n",
    "    rt = np.zeros(len(S))\n",
    "    for i in range(1,len(S)):  rt[i] = np.argmin(np.flipud(S[:i]>S[i]))\n",
    "    return rt.astype('int')\n",
    "\n",
    "%timeit LOWRANGE(s)\n"
   ]
  },
  {
   "cell_type": "code",
   "execution_count": 53,
   "metadata": {},
   "outputs": [
    {
     "data": {
      "text/plain": [
       "array([0, 2, 3, 2, 2, 1])"
      ]
     },
     "execution_count": 53,
     "metadata": {},
     "output_type": "execute_result"
    }
   ],
   "source": [
    "s = [1, 2, 2, 3, 2, 0]\n",
    "np.flipud(s)"
   ]
  },
  {
   "cell_type": "code",
   "execution_count": 57,
   "metadata": {},
   "outputs": [
    {
     "data": {
      "text/plain": [
       "True"
      ]
     },
     "execution_count": 57,
     "metadata": {},
     "output_type": "execute_result"
    }
   ],
   "source": [
    "s = [1, 2, 2, 3, 2, 0]\n",
    "np.all(np.flipud(s) == s[::-1])"
   ]
  },
  {
   "cell_type": "code",
   "execution_count": 118,
   "metadata": {},
   "outputs": [
    {
     "ename": "",
     "evalue": "",
     "output_type": "error",
     "traceback": [
      "\u001b[1;31mThe Kernel crashed while executing code in the current cell or a previous cell. \n",
      "\u001b[1;31mPlease review the code in the cell(s) to identify a possible cause of the failure. \n",
      "\u001b[1;31mClick <a href='https://aka.ms/vscodeJupyterKernelCrash'>here</a> for more info. \n",
      "\u001b[1;31mView Jupyter <a href='command:jupyter.viewOutput'>log</a> for further details."
     ]
    }
   ],
   "source": [
    "def min_range(s):\n",
    "    \"\"\"计算序列s中，元素i是此前多少个周期以来的最小值\n",
    "\n",
    "    此方法在个别数字上有bug\n",
    "\n",
    "    Example:\n",
    "        >>> s = np.array([5, 7, 7, 6, 5, 8, 2])\n",
    "        >>> min_range(s)\n",
    "        array([1, 2, 1, 2, 3, 1, 6])\n",
    "    \"\"\"\n",
    "    n = len(s)\n",
    "\n",
    "    diff = s[:,None] - s\n",
    "    mask = np.triu(np.ones((n, n), dtype=bool), k=1)\n",
    "    masked = np.ma.array(diff, mask=mask)\n",
    "\n",
    "    rng = np.arange(n)\n",
    "    ret = rng - np.argmax(np.ma.where(masked > 0, rng, -1), axis=1)\n",
    "    ret[0] = 1\n",
    "    if s[1] <= s[0]:\n",
    "        ret[1] = 2\n",
    "    return ret\n",
    "\n",
    "s = np.random.randn(100000)\n",
    "%timeit min_range(s)"
   ]
  },
  {
   "cell_type": "code",
   "execution_count": 5,
   "metadata": {},
   "outputs": [],
   "source": [
    "def min_range_loop(s):\n",
    "    minranges = [1]\n",
    "    for i in range(1, len(s)):\n",
    "        for j in range(i-1, -1, -1):\n",
    "            if s[j] < s[i]:\n",
    "                minranges.append(i - j)\n",
    "                break\n",
    "        else:\n",
    "            minranges.append(i+1)\n",
    "    return minranges\n",
    "\n",
    "# s = np.random.randn(10000)\n",
    "\n"
   ]
  },
  {
   "cell_type": "code",
   "execution_count": 101,
   "metadata": {},
   "outputs": [
    {
     "data": {
      "text/plain": [
       "array([[ 0, -1, -1, -2, -1,  1],\n",
       "       [ 1,  0,  0, -1,  0,  2],\n",
       "       [ 1,  0,  0, -1,  0,  2],\n",
       "       [ 2,  1,  1,  0,  1,  3],\n",
       "       [ 1,  0,  0, -1,  0,  2],\n",
       "       [-1, -2, -2, -3, -2,  0]])"
      ]
     },
     "execution_count": 101,
     "metadata": {},
     "output_type": "execute_result"
    }
   ],
   "source": [
    "s[:,None] - s"
   ]
  },
  {
   "cell_type": "code",
   "execution_count": 106,
   "metadata": {},
   "outputs": [
    {
     "data": {
      "text/plain": [
       "array([0, 1, 2, 3, 4, 5])"
      ]
     },
     "execution_count": 106,
     "metadata": {},
     "output_type": "execute_result"
    }
   ],
   "source": [
    "s = np.array([1, 2, 2, 3, 2, 0])\n",
    "diff = s[-1] - s\n",
    "rng = np.arange(len(diff))\n",
    "rng - np.argmax(np.ma.where(diff > 0, rng, -1))\n"
   ]
  },
  {
   "cell_type": "code",
   "execution_count": 110,
   "metadata": {},
   "outputs": [
    {
     "data": {
      "text/plain": [
       "array([0, 1, 2])"
      ]
     },
     "execution_count": 110,
     "metadata": {},
     "output_type": "execute_result"
    }
   ],
   "source": [
    "s = np.array([1, 2, 2])\n",
    "diff = s[-1] - s\n",
    "rng = np.arange(len(diff))\n",
    "rng - np.argmax(np.ma.where(diff > 0, rng, -1))"
   ]
  },
  {
   "cell_type": "code",
   "execution_count": 13,
   "metadata": {},
   "outputs": [],
   "source": [
    "import akshare as ak\n",
    "df = ak.stock_zh_index_daily(symbol=\"sh000001\")\n",
    "\n",
    "df_one_year = df.tail(250)\n",
    "df_one_year[\"minrange\"] = min_range_loop(df_one_year[\"volume\"].to_numpy())\n",
    "\n",
    "ax = df_one_year.plot(x='date', y='close', label='close', color='blue', secondary_y=False)\n",
    "df_one_year.plot(x='date', y='minrange', label='Min Range', color='red', secondary_y=True, ax=ax)\n"
   ]
  },
  {
   "cell_type": "code",
   "execution_count": 14,
   "metadata": {},
   "outputs": [
    {
     "data": {
      "text/plain": [
       "<Axes: >"
      ]
     },
     "execution_count": 14,
     "metadata": {},
     "output_type": "execute_result"
    },
    {
     "data": {
      "image/png": "[encoded data removed]",
      "text/plain": [
       "<Figure size 640x480 with 2 Axes>"
      ]
     },
     "metadata": {},
     "output_type": "display_data"
    }
   ],
   "source": [
    "ax = df_one_year.plot(x='date', y='close', label='close', color='blue', secondary_y=False)\n",
    "df_one_year.plot(x='date', y='minrange', label='Min Range', color='red', secondary_y=True, ax=ax)\n"
   ]
  }
 ],
 "metadata": {
  "kernelspec": {
   "display_name": "coursea",
   "language": "python",
   "name": "python3"
  },
  "language_info": {
   "codemirror_mode": {
    "name": "ipython",
    "version": 3
   },
   "file_extension": ".py",
   "mimetype": "text/x-python",
   "name": "python",
   "nbconvert_exporter": "python",
   "pygments_lexer": "ipython3",
   "version": "3.11.10"
  }
 },
 "nbformat": 4,
 "nbformat_minor": 2
}
