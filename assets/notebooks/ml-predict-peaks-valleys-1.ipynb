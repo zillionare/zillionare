{
 "cells": [
  {
   "cell_type": "code",
   "execution_count": 50,
   "metadata": {},
   "outputs": [],
   "source": [
    "from xgboost import XGBClassifier\n",
    "\n",
    "from sklearn.model_selection import train_test_split\n",
    "import pickle\n",
    "\n",
    "with open(\"/data/pv-labels.pkl\", \"rb\") as f:\n",
    "    raw = pickle.load(f)\n",
    "\n",
    "\n"
   ]
  },
  {
   "cell_type": "code",
   "execution_count": 51,
   "metadata": {},
   "outputs": [],
   "source": [
    "import numpy as np\n",
    "\n",
    "def wr_up(bars):\n",
    "    shadow = bars[\"high\"] - bars[\"close\"]\n",
    "    return shadow/(bars[\"high\"] - bars[\"low\"]+1e-7)\n",
    "\n",
    "def wr_down(bars):\n",
    "    shadow = bars[\"close\"] - bars[\"low\"]\n",
    "    return shadow/(bars[\"high\"] - bars[\"low\"]+1e-7)\n",
    "\n",
    "def upper_shadow(bars):\n",
    "    shadow = bars[\"high\"] - np.maximum(bars[\"open\"], bars[\"close\"])\n",
    "    \n",
    "    # 正则化\n",
    "    return shadow/(bars[\"high\"] - bars[\"low\"]+1e-7)\n",
    "\n",
    "def lower_shadow(bars):\n",
    "    shadow = np.minimum(bars[\"open\"], bars[\"close\"]) - bars[\"low\"]\n",
    "    \n",
    "    # 正则化\n",
    "    return shadow/(bars[\"high\"] - bars[\"low\"]+1e-7)\n",
    "\n",
    "bars = raw[[\"open\", \"high\", \"low\", \"close\"]].to_records(index=False)\n",
    "data = {\n",
    "    \"label\": raw[\"flag\"].values,\n",
    "    \"data\": np.vstack(\n",
    "        (wr_up(bars), \n",
    "         wr_down(bars), \n",
    "         upper_shadow(bars), \n",
    "         lower_shadow(bars)\n",
    "        )\n",
    "        ).T\n",
    "}"
   ]
  },
  {
   "cell_type": "code",
   "execution_count": 52,
   "metadata": {},
   "outputs": [],
   "source": [
    "X_train, X_test, y_train, y_test = train_test_split(data['data'], data['label'] + 1, test_size=.2)\n",
    "# create model instance\n",
    "bst = XGBClassifier(n_estimators=3, max_depth=2, learning_rate=0.5)\n",
    "# fit model\n",
    "bst.fit(X_train, y_train)\n",
    "# make predictions\n",
    "preds = bst.predict(X_test)\n"
   ]
  },
  {
   "cell_type": "code",
   "execution_count": 53,
   "metadata": {},
   "outputs": [
    {
     "name": "stdout",
     "output_type": "stream",
     "text": [
      "ACC: 0.922\n",
      "Recall:92.2%\n",
      "F1-score: 88.4%\n",
      "Precesion:84.9%\n"
     ]
    },
    {
     "name": "stderr",
     "output_type": "stream",
     "text": [
      "/home/aaron/miniconda3/envs/pluto/lib/python3.8/site-packages/sklearn/metrics/_classification.py:1318: UndefinedMetricWarning: Precision is ill-defined and being set to 0.0 in labels with no predicted samples. Use `zero_division` parameter to control this behavior.\n",
      "  _warn_prf(average, modifier, msg_start, len(result))\n"
     ]
    }
   ],
   "source": [
    "from sklearn.metrics import *\n",
    "\n",
    "# https://stackoverflow.com/questions/52269187/facing-valueerror-target-is-multiclass-but-average-binary\n",
    "acc = accuracy_score(y_test,preds)\n",
    "print(f\"ACC: {acc:.3f}\")\n",
    "\n",
    "recall = recall_score(y_test,preds, average='weighted')\n",
    "print(f\"Recall:{recall:.1%}\")\n",
    "\n",
    "f1 = f1_score(y_test,preds, average='weighted')\n",
    "print(f\"F1-score: {f1:.1%}\")\n",
    "\n",
    "precision = precision_score(y_test,preds, average='weighted')\n",
    "print(f\"Precesion:{precision:.1%}\")\n",
    "mx = confusion_matrix(y_test,preds)\n"
   ]
  },
  {
   "cell_type": "code",
   "execution_count": 54,
   "metadata": {},
   "outputs": [
    {
     "data": {
      "text/plain": [
       "<Axes: >"
      ]
     },
     "execution_count": 54,
     "metadata": {},
     "output_type": "execute_result"
    },
    {
     "data": {
      "image/png": "[encoded data removed]",
      "text/plain": [
       "<Figure size 640x480 with 2 Axes>"
      ]
     },
     "metadata": {},
     "output_type": "display_data"
    }
   ],
   "source": [
    "import seaborn as sns\n",
    "\n",
    "sns.heatmap(mx/np.sum(mx), cmap=\"YlGnBu\", annot=True, fmt=\".1%\")"
   ]
  },
  {
   "cell_type": "code",
   "execution_count": null,
   "metadata": {},
   "outputs": [],
   "source": []
  }
 ],
 "metadata": {
  "kernelspec": {
   "display_name": "pluto",
   "language": "python",
   "name": "python3"
  },
  "language_info": {
   "codemirror_mode": {
    "name": "ipython",
    "version": 3
   },
   "file_extension": ".py",
   "mimetype": "text/x-python",
   "name": "python",
   "nbconvert_exporter": "python",
   "pygments_lexer": "ipython3",
   "version": "3.8.17"
  }
 },
 "nbformat": 4,
 "nbformat_minor": 2
}
