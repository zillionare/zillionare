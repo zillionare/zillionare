{
 "cells": [
  {
   "cell_type": "code",
   "execution_count": 10,
   "id": "9aa4c044",
   "metadata": {},
   "outputs": [],
   "source": [
    "import tushare as ts\n",
    "\n",
    "pro = ts.pro_api()"
   ]
  },
  {
   "cell_type": "code",
   "execution_count": 11,
   "id": "1bb6427d",
   "metadata": {},
   "outputs": [
    {
     "name": "stderr",
     "output_type": "stream",
     "text": [
      "\u001b[32m2025-09-22 18:14:23.082\u001b[0m | \u001b[1mINFO    \u001b[0m | \u001b[36mtushare\u001b[0m:\u001b[36m_connect\u001b[0m:\u001b[36m29\u001b[0m - \u001b[1mConnected to server tushare:5290\u001b[0m\n"
     ]
    },
    {
     "data": {
      "text/plain": [
       "['603811.SH', '301539.SZ', '002335.SZ', '002516.SZ', '300016.SZ']"
      ]
     },
     "execution_count": 11,
     "metadata": {},
     "output_type": "execute_result"
    }
   ],
   "source": [
    "df = pro.daily_basic()\n",
    "securities = df[\"ts_code\"].tolist()\n",
    "securities[:5]"
   ]
  },
  {
   "cell_type": "code",
   "execution_count": 13,
   "id": "fb4f78ed",
   "metadata": {},
   "outputs": [
    {
     "name": "stdout",
     "output_type": "stream",
     "text": [
      "processed 0 securities\n",
      "processed 500 securities\n",
      "processed 1000 securities\n",
      "processed 1500 securities\n",
      "processed 2000 securities\n",
      "processed 2500 securities\n",
      "processed 3000 securities\n",
      "processed 3500 securities\n",
      "processed 4000 securities\n",
      "processed 4500 securities\n"
     ]
    },
    {
     "name": "stderr",
     "output_type": "stream",
     "text": [
      "\u001b[32m2025-09-22 18:56:55.998\u001b[0m | \u001b[31m\u001b[1mERROR   \u001b[0m | \u001b[36mtushare\u001b[0m:\u001b[36m_receive_data\u001b[0m:\u001b[36m125\u001b[0m - \u001b[31m\u001b[1mError receiving data: timed out\u001b[0m\n",
      "\u001b[32m2025-09-22 18:56:56.002\u001b[0m | \u001b[33m\u001b[1mWARNING \u001b[0m | \u001b[36mtushare\u001b[0m:\u001b[36m_send_request\u001b[0m:\u001b[36m78\u001b[0m - \u001b[33m\u001b[1mConnection failed (attempt 1/4): timed out\u001b[0m\n",
      "\u001b[32m2025-09-22 18:56:56.003\u001b[0m | \u001b[1mINFO    \u001b[0m | \u001b[36mtushare\u001b[0m:\u001b[36m_send_request\u001b[0m:\u001b[36m79\u001b[0m - \u001b[1mRetrying in 1 seconds...\u001b[0m\n"
     ]
    },
    {
     "ename": "NameError",
     "evalue": "name 'time' is not defined",
     "output_type": "error",
     "traceback": [
      "\u001b[31m---------------------------------------------------------------------------\u001b[39m",
      "\u001b[31mTimeoutError\u001b[39m                              Traceback (most recent call last)",
      "\u001b[36mFile \u001b[39m\u001b[32m~/.ipython/profile_default/startup/tushare.py:63\u001b[39m, in \u001b[36mTushareProProxy._send_request\u001b[39m\u001b[34m(self, method_name, *args, **kwargs)\u001b[39m\n\u001b[32m     62\u001b[39m \u001b[38;5;66;03m# Receive response\u001b[39;00m\n\u001b[32m---> \u001b[39m\u001b[32m63\u001b[39m response_data = \u001b[38;5;28;43mself\u001b[39;49m\u001b[43m.\u001b[49m\u001b[43m_receive_data\u001b[49m\u001b[43m(\u001b[49m\u001b[43m)\u001b[49m\n\u001b[32m     64\u001b[39m response = pickle.loads(response_data)\n",
      "\u001b[36mFile \u001b[39m\u001b[32m~/.ipython/profile_default/startup/tushare.py:109\u001b[39m, in \u001b[36mTushareProProxy._receive_data\u001b[39m\u001b[34m(self)\u001b[39m\n\u001b[32m    107\u001b[39m \u001b[38;5;28;01mtry\u001b[39;00m:\n\u001b[32m    108\u001b[39m     \u001b[38;5;66;03m# First, receive the length of the data (4 bytes)\u001b[39;00m\n\u001b[32m--> \u001b[39m\u001b[32m109\u001b[39m     length_data = \u001b[38;5;28;43mself\u001b[39;49m\u001b[43m.\u001b[49m\u001b[43m_socket\u001b[49m\u001b[43m.\u001b[49m\u001b[43mrecv\u001b[49m\u001b[43m(\u001b[49m\u001b[32;43m4\u001b[39;49m\u001b[43m)\u001b[49m\n\u001b[32m    110\u001b[39m     \u001b[38;5;28;01mif\u001b[39;00m \u001b[38;5;28mlen\u001b[39m(length_data) < \u001b[32m4\u001b[39m:\n",
      "\u001b[31mTimeoutError\u001b[39m: timed out",
      "\nDuring handling of the above exception, another exception occurred:\n",
      "\u001b[31mNameError\u001b[39m                                 Traceback (most recent call last)",
      "\u001b[36mCell\u001b[39m\u001b[36m \u001b[39m\u001b[32mIn[13]\u001b[39m\u001b[32m, line 7\u001b[39m\n\u001b[32m      5\u001b[39m end = datetime.date(\u001b[32m2023\u001b[39m, \u001b[32m12\u001b[39m, \u001b[32m31\u001b[39m)\n\u001b[32m      6\u001b[39m \u001b[38;5;28;01mfor\u001b[39;00m i, sec \u001b[38;5;129;01min\u001b[39;00m \u001b[38;5;28menumerate\u001b[39m(securities):\n\u001b[32m----> \u001b[39m\u001b[32m7\u001b[39m     df = \u001b[43mpro\u001b[49m\u001b[43m.\u001b[49m\u001b[43mfina_audit\u001b[49m\u001b[43m(\u001b[49m\u001b[43mts_code\u001b[49m\u001b[43m \u001b[49m\u001b[43m=\u001b[49m\u001b[43m \u001b[49m\u001b[43msec\u001b[49m\u001b[43m,\u001b[49m\u001b[43m \u001b[49m\n\u001b[32m      8\u001b[39m \u001b[43m                        \u001b[49m\u001b[43mstart_date\u001b[49m\u001b[43m \u001b[49m\u001b[43m=\u001b[49m\u001b[43m \u001b[49m\u001b[43mstart\u001b[49m\u001b[43m.\u001b[49m\u001b[43mstrftime\u001b[49m\u001b[43m(\u001b[49m\u001b[33;43m\"\u001b[39;49m\u001b[33;43m%\u001b[39;49m\u001b[33;43mY\u001b[39;49m\u001b[33;43m%\u001b[39;49m\u001b[33;43mm\u001b[39;49m\u001b[38;5;132;43;01m%d\u001b[39;49;00m\u001b[33;43m\"\u001b[39;49m\u001b[43m)\u001b[49m\u001b[43m,\u001b[49m\u001b[43m \u001b[49m\n\u001b[32m      9\u001b[39m \u001b[43m                        \u001b[49m\u001b[43mend_date\u001b[49m\u001b[43m=\u001b[49m\u001b[43mend\u001b[49m\u001b[43m.\u001b[49m\u001b[43mstrftime\u001b[49m\u001b[43m(\u001b[49m\u001b[33;43m\"\u001b[39;49m\u001b[33;43m%\u001b[39;49m\u001b[33;43mY\u001b[39;49m\u001b[33;43m%\u001b[39;49m\u001b[33;43mm\u001b[39;49m\u001b[38;5;132;43;01m%d\u001b[39;49;00m\u001b[33;43m\"\u001b[39;49m\u001b[43m)\u001b[49m\u001b[43m)\u001b[49m\n\u001b[32m     10\u001b[39m     \u001b[38;5;28;01mif\u001b[39;00m \u001b[38;5;129;01mnot\u001b[39;00m df.empty:\n\u001b[32m     11\u001b[39m         dfs.append(df)\n",
      "\u001b[36mFile \u001b[39m\u001b[32m~/.ipython/profile_default/startup/tushare.py:131\u001b[39m, in \u001b[36mTushareProProxy.__getattr__.<locals>.method_proxy\u001b[39m\u001b[34m(*args, **kwargs)\u001b[39m\n\u001b[32m    130\u001b[39m \u001b[38;5;28;01mdef\u001b[39;00m\u001b[38;5;250m \u001b[39m\u001b[34mmethod_proxy\u001b[39m(*args, **kwargs):\n\u001b[32m--> \u001b[39m\u001b[32m131\u001b[39m     \u001b[38;5;28;01mreturn\u001b[39;00m \u001b[38;5;28;43mself\u001b[39;49m\u001b[43m.\u001b[49m\u001b[43m_send_request\u001b[49m\u001b[43m(\u001b[49m\u001b[43mname\u001b[49m\u001b[43m,\u001b[49m\u001b[43m \u001b[49m\u001b[43m*\u001b[49m\u001b[43margs\u001b[49m\u001b[43m,\u001b[49m\u001b[43m \u001b[49m\u001b[43m*\u001b[49m\u001b[43m*\u001b[49m\u001b[43mkwargs\u001b[49m\u001b[43m)\u001b[49m\n",
      "\u001b[36mFile \u001b[39m\u001b[32m~/.ipython/profile_default/startup/tushare.py:80\u001b[39m, in \u001b[36mTushareProProxy._send_request\u001b[39m\u001b[34m(self, method_name, *args, **kwargs)\u001b[39m\n\u001b[32m     78\u001b[39m     logger.warning(\u001b[33mf\u001b[39m\u001b[33m\"\u001b[39m\u001b[33mConnection failed (attempt \u001b[39m\u001b[38;5;132;01m{\u001b[39;00mattempt\u001b[38;5;250m \u001b[39m+\u001b[38;5;250m \u001b[39m\u001b[32m1\u001b[39m\u001b[38;5;132;01m}\u001b[39;00m\u001b[33m/\u001b[39m\u001b[38;5;132;01m{\u001b[39;00m\u001b[38;5;28mself\u001b[39m.max_retries\u001b[38;5;250m \u001b[39m+\u001b[38;5;250m \u001b[39m\u001b[32m1\u001b[39m\u001b[38;5;132;01m}\u001b[39;00m\u001b[33m): \u001b[39m\u001b[38;5;132;01m{\u001b[39;00me\u001b[38;5;132;01m}\u001b[39;00m\u001b[33m\"\u001b[39m)\n\u001b[32m     79\u001b[39m     logger.info(\u001b[33mf\u001b[39m\u001b[33m\"\u001b[39m\u001b[33mRetrying in \u001b[39m\u001b[38;5;132;01m{\u001b[39;00m\u001b[38;5;28mself\u001b[39m.retry_delay\u001b[38;5;132;01m}\u001b[39;00m\u001b[33m seconds...\u001b[39m\u001b[33m\"\u001b[39m)\n\u001b[32m---> \u001b[39m\u001b[32m80\u001b[39m     \u001b[43mtime\u001b[49m.sleep(\u001b[38;5;28mself\u001b[39m.retry_delay)\n\u001b[32m     81\u001b[39m \u001b[38;5;28;01melse\u001b[39;00m:\n\u001b[32m     82\u001b[39m     logger.error(\u001b[33mf\u001b[39m\u001b[33m\"\u001b[39m\u001b[33mAll \u001b[39m\u001b[38;5;132;01m{\u001b[39;00m\u001b[38;5;28mself\u001b[39m.max_retries\u001b[38;5;250m \u001b[39m+\u001b[38;5;250m \u001b[39m\u001b[32m1\u001b[39m\u001b[38;5;132;01m}\u001b[39;00m\u001b[33m connection attempts failed\u001b[39m\u001b[33m\"\u001b[39m)\n",
      "\u001b[31mNameError\u001b[39m: name 'time' is not defined"
     ]
    }
   ],
   "source": [
    "import time\n",
    "dfs = []\n",
    "\n",
    "start = datetime.date(2018, 1, 1)\n",
    "end = datetime.date(2023, 12, 31)\n",
    "for i, sec in enumerate(securities):\n",
    "    df = pro.fina_audit(ts_code = sec, \n",
    "                        start_date = start.strftime(\"%Y%m%d\"), \n",
    "                        end_date=end.strftime(\"%Y%m%d\"))\n",
    "    if not df.empty:\n",
    "        dfs.append(df)\n",
    "\n",
    "    time.sleep(0.125)\n",
    "    if i % 500 == 0:\n",
    "        print(f\"processed {i} securities\")\n",
    "\n",
    "audit_report = pd.concat(dfs, axis=0)\n",
    "audit_report.head()"
   ]
  },
  {
   "cell_type": "code",
   "execution_count": 16,
   "id": "daf71161",
   "metadata": {},
   "outputs": [
    {
     "data": {
      "text/plain": [
       "4809"
      ]
     },
     "execution_count": 16,
     "metadata": {},
     "output_type": "execute_result"
    }
   ],
   "source": [
    "temp = pd.concat(dfs)\n",
    "len(temp[\"ts_code\"].unique())"
   ]
  },
  {
   "cell_type": "code",
   "execution_count": 20,
   "id": "5f66c8cd",
   "metadata": {},
   "outputs": [
    {
     "name": "stderr",
     "output_type": "stream",
     "text": [
      "\u001b[32m2025-09-22 18:59:31.552\u001b[0m | \u001b[1mINFO    \u001b[0m | \u001b[36mtushare\u001b[0m:\u001b[36m_connect\u001b[0m:\u001b[36m29\u001b[0m - \u001b[1mConnected to server tushare:5290\u001b[0m\n"
     ]
    },
    {
     "data": {
      "text/html": [
       "<div>\n",
       "<style scoped>\n",
       "    .dataframe tbody tr th:only-of-type {\n",
       "        vertical-align: middle;\n",
       "    }\n",
       "\n",
       "    .dataframe tbody tr th {\n",
       "        vertical-align: top;\n",
       "    }\n",
       "\n",
       "    .dataframe thead th {\n",
       "        text-align: right;\n",
       "    }\n",
       "</style>\n",
       "<table border=\"1\" class=\"dataframe\">\n",
       "  <thead>\n",
       "    <tr style=\"text-align: right;\">\n",
       "      <th></th>\n",
       "      <th>ts_code</th>\n",
       "      <th>ann_date</th>\n",
       "      <th>end_date</th>\n",
       "      <th>audit_result</th>\n",
       "      <th>audit_fees</th>\n",
       "      <th>audit_agency</th>\n",
       "      <th>audit_sign</th>\n",
       "    </tr>\n",
       "  </thead>\n",
       "  <tbody>\n",
       "    <tr>\n",
       "      <th>0</th>\n",
       "      <td>603811.SH</td>\n",
       "      <td>20230426</td>\n",
       "      <td>20221231</td>\n",
       "      <td>标准无保留意见</td>\n",
       "      <td>1000000.0</td>\n",
       "      <td>中汇会计师事务所</td>\n",
       "      <td>翟晓宁,曹吉诚</td>\n",
       "    </tr>\n",
       "    <tr>\n",
       "      <th>1</th>\n",
       "      <td>603811.SH</td>\n",
       "      <td>20220426</td>\n",
       "      <td>20211231</td>\n",
       "      <td>标准无保留意见</td>\n",
       "      <td>1000000.0</td>\n",
       "      <td>中汇会计师事务所</td>\n",
       "      <td>翟晓宁,曹吉诚</td>\n",
       "    </tr>\n",
       "    <tr>\n",
       "      <th>2</th>\n",
       "      <td>603811.SH</td>\n",
       "      <td>20210423</td>\n",
       "      <td>20201231</td>\n",
       "      <td>标准无保留意见</td>\n",
       "      <td>1000000.0</td>\n",
       "      <td>中汇会计师事务所</td>\n",
       "      <td>鲁立,曹吉诚</td>\n",
       "    </tr>\n",
       "    <tr>\n",
       "      <th>3</th>\n",
       "      <td>603811.SH</td>\n",
       "      <td>20200428</td>\n",
       "      <td>20191231</td>\n",
       "      <td>标准无保留意见</td>\n",
       "      <td>1000000.0</td>\n",
       "      <td>中汇会计师事务所</td>\n",
       "      <td>鲁立,邢兵</td>\n",
       "    </tr>\n",
       "    <tr>\n",
       "      <th>4</th>\n",
       "      <td>603811.SH</td>\n",
       "      <td>20190410</td>\n",
       "      <td>20181231</td>\n",
       "      <td>标准无保留意见</td>\n",
       "      <td>550000.0</td>\n",
       "      <td>中汇会计师事务所</td>\n",
       "      <td>鲁立,翟晓宁</td>\n",
       "    </tr>\n",
       "  </tbody>\n",
       "</table>\n",
       "</div>"
      ],
      "text/plain": [
       "     ts_code  ann_date  end_date audit_result  audit_fees audit_agency  \\\n",
       "0  603811.SH  20230426  20221231      标准无保留意见   1000000.0     中汇会计师事务所   \n",
       "1  603811.SH  20220426  20211231      标准无保留意见   1000000.0     中汇会计师事务所   \n",
       "2  603811.SH  20210423  20201231      标准无保留意见   1000000.0     中汇会计师事务所   \n",
       "3  603811.SH  20200428  20191231      标准无保留意见   1000000.0     中汇会计师事务所   \n",
       "4  603811.SH  20190410  20181231      标准无保留意见    550000.0     中汇会计师事务所   \n",
       "\n",
       "  audit_sign  \n",
       "0    翟晓宁,曹吉诚  \n",
       "1    翟晓宁,曹吉诚  \n",
       "2     鲁立,曹吉诚  \n",
       "3      鲁立,邢兵  \n",
       "4     鲁立,翟晓宁  "
      ]
     },
     "execution_count": 20,
     "metadata": {},
     "output_type": "execute_result"
    }
   ],
   "source": [
    "rest = set(securities) - set(temp[\"ts_code\"].unique())\n",
    "for i, sec in enumerate(rest):\n",
    "    df = pro.fina_audit(ts_code = sec, \n",
    "                        start_date = start.strftime(\"%Y%m%d\"), \n",
    "                        end_date=end.strftime(\"%Y%m%d\"))\n",
    "    if not df.empty:\n",
    "        dfs.append(df)\n",
    "\n",
    "audit_report = pd.concat(dfs, axis=0)\n",
    "audit_report.head()"
   ]
  },
  {
   "cell_type": "code",
   "execution_count": null,
   "id": "2e6b2970",
   "metadata": {},
   "outputs": [
    {
     "data": {
      "text/html": [
       "<div>\n",
       "<style scoped>\n",
       "    .dataframe tbody tr th:only-of-type {\n",
       "        vertical-align: middle;\n",
       "    }\n",
       "\n",
       "    .dataframe tbody tr th {\n",
       "        vertical-align: top;\n",
       "    }\n",
       "\n",
       "    .dataframe thead th {\n",
       "        text-align: right;\n",
       "    }\n",
       "</style>\n",
       "<table border=\"1\" class=\"dataframe\">\n",
       "  <thead>\n",
       "    <tr style=\"text-align: right;\">\n",
       "      <th></th>\n",
       "      <th>ts_code</th>\n",
       "      <th>ann_date</th>\n",
       "      <th>end_date</th>\n",
       "      <th>audit_result</th>\n",
       "      <th>audit_fees</th>\n",
       "      <th>audit_agency</th>\n",
       "      <th>audit_sign</th>\n",
       "    </tr>\n",
       "  </thead>\n",
       "  <tbody>\n",
       "    <tr>\n",
       "      <th>0</th>\n",
       "      <td>000004.SZ</td>\n",
       "      <td>20230429</td>\n",
       "      <td>20221231</td>\n",
       "      <td>标准无保留意见</td>\n",
       "      <td>1200000.0</td>\n",
       "      <td>中兴财光华会计师事务所</td>\n",
       "      <td>侯胜利,杜丽</td>\n",
       "    </tr>\n",
       "    <tr>\n",
       "      <th>1</th>\n",
       "      <td>000004.SZ</td>\n",
       "      <td>20220430</td>\n",
       "      <td>20211231</td>\n",
       "      <td>保留意见</td>\n",
       "      <td>1200000.0</td>\n",
       "      <td>致同会计师事务所</td>\n",
       "      <td>付细军,庄翠曼</td>\n",
       "    </tr>\n",
       "    <tr>\n",
       "      <th>2</th>\n",
       "      <td>000004.SZ</td>\n",
       "      <td>20210428</td>\n",
       "      <td>20201231</td>\n",
       "      <td>标准无保留意见</td>\n",
       "      <td>800000.0</td>\n",
       "      <td>大华会计师事务所</td>\n",
       "      <td>申宏波,万海青</td>\n",
       "    </tr>\n",
       "    <tr>\n",
       "      <th>3</th>\n",
       "      <td>000004.SZ</td>\n",
       "      <td>20200428</td>\n",
       "      <td>20191231</td>\n",
       "      <td>标准无保留意见</td>\n",
       "      <td>900000.0</td>\n",
       "      <td>大华会计师事务所</td>\n",
       "      <td>申宏波,赵君</td>\n",
       "    </tr>\n",
       "    <tr>\n",
       "      <th>4</th>\n",
       "      <td>000004.SZ</td>\n",
       "      <td>20190426</td>\n",
       "      <td>20181231</td>\n",
       "      <td>标准无保留意见</td>\n",
       "      <td>380000.0</td>\n",
       "      <td>大华会计师事务所</td>\n",
       "      <td>刘金平,赵君</td>\n",
       "    </tr>\n",
       "    <tr>\n",
       "      <th>5</th>\n",
       "      <td>000004.SZ</td>\n",
       "      <td>20180428</td>\n",
       "      <td>20171231</td>\n",
       "      <td>带强调事项段的无保留意见</td>\n",
       "      <td>380000.0</td>\n",
       "      <td>大华会计师事务所</td>\n",
       "      <td>胡进科,赵君</td>\n",
       "    </tr>\n",
       "  </tbody>\n",
       "</table>\n",
       "</div>"
      ],
      "text/plain": [
       "     ts_code  ann_date  end_date  audit_result  audit_fees audit_agency  \\\n",
       "0  000004.SZ  20230429  20221231       标准无保留意见   1200000.0  中兴财光华会计师事务所   \n",
       "1  000004.SZ  20220430  20211231          保留意见   1200000.0     致同会计师事务所   \n",
       "2  000004.SZ  20210428  20201231       标准无保留意见    800000.0     大华会计师事务所   \n",
       "3  000004.SZ  20200428  20191231       标准无保留意见    900000.0     大华会计师事务所   \n",
       "4  000004.SZ  20190426  20181231       标准无保留意见    380000.0     大华会计师事务所   \n",
       "5  000004.SZ  20180428  20171231  带强调事项段的无保留意见    380000.0     大华会计师事务所   \n",
       "\n",
       "  audit_sign  \n",
       "0     侯胜利,杜丽  \n",
       "1    付细军,庄翠曼  \n",
       "2    申宏波,万海青  \n",
       "3     申宏波,赵君  \n",
       "4     刘金平,赵君  \n",
       "5     胡进科,赵君  "
      ]
     },
     "execution_count": 24,
     "metadata": {},
     "output_type": "execute_result"
    }
   ],
   "source": [
    "\n",
    "audit_report.query(\"ts_code == '000004.SZ'\")"
   ]
  },
  {
   "cell_type": "code",
   "execution_count": null,
   "id": "35e36260",
   "metadata": {},
   "outputs": [
    {
     "name": "stderr",
     "output_type": "stream",
     "text": [
      "\u001b[32m2025-09-22 20:43:54.166\u001b[0m | \u001b[1mINFO    \u001b[0m | \u001b[36mhelper\u001b[0m:\u001b[36mload_data\u001b[0m:\u001b[36m406\u001b[0m - \u001b[1m获取结束日期后缺失的数据: 2023-10-01 到 2023-12-31\u001b[0m\n",
      "\u001b[32m2025-09-22 20:43:54.168\u001b[0m | \u001b[1mINFO    \u001b[0m | \u001b[36mtushare\u001b[0m:\u001b[36m_connect\u001b[0m:\u001b[36m29\u001b[0m - \u001b[1mConnected to server tushare:5290\u001b[0m\n"
     ]
    }
   ],
   "source": [
    "import datetime\n",
    "import pandas as pd\n",
    "import tushare as ts\n",
    "from helper import ParquetUnifiedStorage\n",
    "\n",
    "def fetch_fina_audit(start: datetime.date, end: datetime.date) -> pd.DataFrame | None:\n",
    "    \"\"\"\n",
    "    通过 tushare 接口，获取财务审计意见数据。该函数通过遍历指定日期范围内的每一天来获取数据。\n",
    "\n",
    "    Args:\n",
    "        start: 开始日期 (基于公告日期 ann_date)\n",
    "        end: 结束日期 (基于公告日期 ann_date)\n",
    "\n",
    "    Returns:\n",
    "        DataFrame: 包含审计意见等数据的DataFrame，如果无数据则返回None\n",
    "    \"\"\"\n",
    "    pro = ts.pro_api()\n",
    "    all_data = []\n",
    "\n",
    "    df = pro.daily_basic()\n",
    "    securities = df[\"ts_code\"].tolist()\n",
    "\n",
    "    for sec in securities:\n",
    "        try:\n",
    "            df = pro.fina_audit(ts_code = sec, \n",
    "                            start_date = start.strftime(\"%Y%m%d\"), \n",
    "                            end_date=end.strftime(\"%Y%m%d\"))\n",
    "            if not df.empty:\n",
    "                all_data.append(df)\n",
    "        except Exception as e:\n",
    "            logger.error(f\"获取 {sec} 的财务审计意见失败: {e}\")\n",
    "            continue\n",
    "\n",
    "    if len(all_data) == 0:\n",
    "        logger.warning(f\"在 {start} 到 {end} 之间，没有获取到任何财务审计意见数据\")\n",
    "        return None\n",
    "        \n",
    "    df = pd.concat(all_data, ignore_index=True)\n",
    "    df = df.rename(columns={'end_date': 'date', 'ts_code': 'asset'})\n",
    "\n",
    "    df['date'] = pd.to_datetime(df['date'], format='%Y%m%d').dt.date\n",
    "    \n",
    "    return df\n",
    "\n",
    "from helper import ParquetUnifiedStorage\n",
    "fina_audit_storage_path = data_home / \"rw/fina_audit.parquet\"\n",
    "\n",
    "audit_storage = ParquetUnifiedStorage(\n",
    "    store_path=fina_audit_storage_path,\n",
    "    fetch_data_func=fetch_fina_audit\n",
    ")\n",
    "\n",
    "df = pd.read_parquet(\"/tmp/audit_report.parquet\")\n",
    "audit_storage.append_data(df)\n",
    "\n",
    "start = datetime.date(2018, 1, 1)\n",
    "end = datetime.date(2023, 12, 31)\n",
    "\n",
    "audit_storage.load_data(start, end)"
   ]
  },
  {
   "cell_type": "code",
   "execution_count": 1,
   "id": "d5a17e9a",
   "metadata": {},
   "outputs": [
    {
     "ename": "NameError",
     "evalue": "name 'fetch_fina_audit' is not defined",
     "output_type": "error",
     "traceback": [
      "\u001b[31m---------------------------------------------------------------------------\u001b[39m",
      "\u001b[31mNameError\u001b[39m                                 Traceback (most recent call last)",
      "\u001b[36mCell\u001b[39m\u001b[36m \u001b[39m\u001b[32mIn[1]\u001b[39m\u001b[32m, line 6\u001b[39m\n\u001b[32m      1\u001b[39m \u001b[38;5;28;01mfrom\u001b[39;00m\u001b[38;5;250m \u001b[39m\u001b[34;01mhelper\u001b[39;00m\u001b[38;5;250m \u001b[39m\u001b[38;5;28;01mimport\u001b[39;00m ParquetUnifiedStorage\n\u001b[32m      2\u001b[39m fina_audit_storage_path = data_home / \u001b[33m\"\u001b[39m\u001b[33mrw/fina_audit.parquet\u001b[39m\u001b[33m\"\u001b[39m\n\u001b[32m      4\u001b[39m audit_storage = ParquetUnifiedStorage(\n\u001b[32m      5\u001b[39m     store_path=fina_audit_storage_path,\n\u001b[32m----> \u001b[39m\u001b[32m6\u001b[39m     fetch_data_func=\u001b[43mfetch_fina_audit\u001b[49m\n\u001b[32m      7\u001b[39m )\n\u001b[32m      9\u001b[39m df = pd.read_parquet(\u001b[33m\"\u001b[39m\u001b[33m/tmp/audit_report.parquet\u001b[39m\u001b[33m\"\u001b[39m)\n\u001b[32m     10\u001b[39m audit_storage.append_data(df)\n",
      "\u001b[31mNameError\u001b[39m: name 'fetch_fina_audit' is not defined"
     ]
    }
   ],
   "source": [
    "from helper import ParquetUnifiedStorage\n",
    "fina_audit_storage_path = data_home / \"rw/fina_audit.parquet\"\n",
    "\n",
    "audit_storage = ParquetUnifiedStorage(\n",
    "    store_path=fina_audit_storage_path,\n",
    "    fetch_data_func=fetch_fina_audit\n",
    ")\n",
    "\n",
    "df = pd.read_parquet(\"/tmp/audit_report.parquet\")\n",
    "audit_storage.append_data(df)\n",
    "audit_storage.load_data(start, end)"
   ]
  },
  {
   "cell_type": "code",
   "execution_count": 39,
   "id": "172a1839",
   "metadata": {},
   "outputs": [],
   "source": [
    "df = audit_report.rename(columns={'end_date': 'date', 'ts_code': 'asset'})\n",
    "df.to_parquet('/tmp/audit_report.parquet', index=False)\n"
   ]
  },
  {
   "cell_type": "code",
   "execution_count": null,
   "id": "bf2e0362",
   "metadata": {},
   "outputs": [],
   "source": []
  }
 ],
 "metadata": {
  "kernelspec": {
   "display_name": "zillionare",
   "language": "python",
   "name": "python3"
  },
  "language_info": {
   "codemirror_mode": {
    "name": "ipython",
    "version": 3
   },
   "file_extension": ".py",
   "mimetype": "text/x-python",
   "name": "python",
   "nbconvert_exporter": "python",
   "pygments_lexer": "ipython3",
   "version": "3.12.11"
  }
 },
 "nbformat": 4,
 "nbformat_minor": 5
}
