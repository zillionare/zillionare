{
 "cells": [
  {
   "cell_type": "code",
   "execution_count": null,
   "id": "d3891cf4-6955-4db8-8aec-b1dfcd87bea8",
   "metadata": {},
   "outputs": [
    {
     "ename": "",
     "evalue": "",
     "output_type": "error",
     "traceback": [
      "\u001b[1;31mFailed to start the Kernel. \n",
      "\u001b[1;31mThe kernel died. Error: ... View Jupyter <a href='command:jupyter.viewOutput'>log</a> for further details."
     ]
    }
   ],
   "source": [
    "from helper import (ParquetUnifiedStorage, dividend_yield_screen)\n",
    "from fetchers import (fetch_bars, fetch_dv_ttm, fetch_fina_audit)\n",
    "import tushare as ts\n",
    "from moonshot import Moonshot"
   ]
  },
  {
   "cell_type": "code",
   "execution_count": 4,
   "id": "eeb30fe5-d9a0-425b-bc2c-4467c8e23947",
   "metadata": {},
   "outputs": [],
   "source": [
    "start = datetime.date(2018, 11, 30)\n",
    "end = datetime.date(2023, 11, 30)\n",
    "\n",
    "store_path = data_home / \"rw/bars.parquet\"\n",
    "bars_store = ParquetUnifiedStorage(store_path=store_path, fetch_data_func=fetch_bars)\n"
   ]
  },
  {
   "cell_type": "code",
   "execution_count": 5,
   "id": "764fafec",
   "metadata": {},
   "outputs": [
    {
     "name": "stderr",
     "output_type": "stream",
     "text": [
      "\u001b[32m2025-10-21 17:28:00.653\u001b[0m | \u001b[1mINFO    \u001b[0m | \u001b[36mhelper\u001b[0m:\u001b[36mload_data\u001b[0m:\u001b[36m283\u001b[0m - \u001b[1m获取开始日期前缺失的数据: 2018-11-30 到 2023-11-30\u001b[0m\n",
      "\u001b[32m2025-10-21 17:28:00.695\u001b[0m | \u001b[1mINFO    \u001b[0m | \u001b[36mtushare\u001b[0m:\u001b[36m_connect\u001b[0m:\u001b[36m29\u001b[0m - \u001b[1mConnected to server tushare:5290\u001b[0m\n"
     ]
    },
    {
     "ename": "ImportError",
     "evalue": "pyarrow is required for converting a pandas dataframe to Polars, unless each of its columns is a simple numpy-backed one (e.g. 'int64', 'bool', 'float32' - not 'Int64')",
     "output_type": "error",
     "traceback": [
      "\u001b[31m---------------------------------------------------------------------------\u001b[39m",
      "\u001b[31mImportError\u001b[39m                               Traceback (most recent call last)",
      "\u001b[36mCell\u001b[39m\u001b[36m \u001b[39m\u001b[32mIn[5]\u001b[39m\u001b[32m, line 1\u001b[39m\n\u001b[32m----> \u001b[39m\u001b[32m1\u001b[39m barss = \u001b[43mbars_store\u001b[49m\u001b[43m.\u001b[49m\u001b[43mload_data\u001b[49m\u001b[43m(\u001b[49m\u001b[43mstart\u001b[49m\u001b[43m,\u001b[49m\u001b[43m \u001b[49m\u001b[43mend\u001b[49m\u001b[43m)\u001b[49m\n",
      "\u001b[36mFile \u001b[39m\u001b[32m~/workspace/zillionare/docs/blog/posts/tools/moonshot/helper.py:288\u001b[39m, in \u001b[36mParquetUnifiedStorage.load_data\u001b[39m\u001b[34m(self, start, end)\u001b[39m\n\u001b[32m    285\u001b[39m     \u001b[38;5;28;01mif\u001b[39;00m new_data \u001b[38;5;129;01mis\u001b[39;00m \u001b[38;5;129;01mnot\u001b[39;00m \u001b[38;5;28;01mNone\u001b[39;00m \u001b[38;5;129;01mand\u001b[39;00m (\u001b[38;5;129;01mnot\u001b[39;00m new_data.empty \u001b[38;5;28;01mif\u001b[39;00m \u001b[38;5;28misinstance\u001b[39m(new_data, pd.DataFrame) \u001b[38;5;28;01melse\u001b[39;00m \u001b[38;5;129;01mnot\u001b[39;00m new_data.is_empty()):\n\u001b[32m    286\u001b[39m         \u001b[38;5;66;03m# 确保数据格式为Polars DataFrame\u001b[39;00m\n\u001b[32m    287\u001b[39m         \u001b[38;5;28;01mif\u001b[39;00m \u001b[38;5;28misinstance\u001b[39m(new_data, pd.DataFrame):\n\u001b[32m--> \u001b[39m\u001b[32m288\u001b[39m             new_data = \u001b[43mpl\u001b[49m\u001b[43m.\u001b[49m\u001b[43mfrom_pandas\u001b[49m\u001b[43m(\u001b[49m\u001b[43mnew_data\u001b[49m\u001b[43m)\u001b[49m\n\u001b[32m    289\u001b[39m         dfs_to_append.append(new_data)\n\u001b[32m    291\u001b[39m \u001b[38;5;66;03m# 获取结束日期后缺失的数据\u001b[39;00m\n",
      "\u001b[36mFile \u001b[39m\u001b[32m~/miniforge3/envs/zillionare/lib/python3.12/site-packages/polars/convert/general.py:702\u001b[39m, in \u001b[36mfrom_pandas\u001b[39m\u001b[34m(data, schema_overrides, rechunk, nan_to_null, include_index)\u001b[39m\n\u001b[32m    699\u001b[39m     \u001b[38;5;28;01mreturn\u001b[39;00m wrap_s(pandas_to_pyseries(\u001b[33m\"\u001b[39m\u001b[33m\"\u001b[39m, data, nan_to_null=nan_to_null))\n\u001b[32m    700\u001b[39m \u001b[38;5;28;01melif\u001b[39;00m \u001b[38;5;28misinstance\u001b[39m(data, pd.DataFrame):\n\u001b[32m    701\u001b[39m     \u001b[38;5;28;01mreturn\u001b[39;00m wrap_df(\n\u001b[32m--> \u001b[39m\u001b[32m702\u001b[39m         \u001b[43mpandas_to_pydf\u001b[49m\u001b[43m(\u001b[49m\n\u001b[32m    703\u001b[39m \u001b[43m            \u001b[49m\u001b[43mdata\u001b[49m\u001b[43m,\u001b[49m\n\u001b[32m    704\u001b[39m \u001b[43m            \u001b[49m\u001b[43mschema_overrides\u001b[49m\u001b[43m=\u001b[49m\u001b[43mschema_overrides\u001b[49m\u001b[43m,\u001b[49m\n\u001b[32m    705\u001b[39m \u001b[43m            \u001b[49m\u001b[43mrechunk\u001b[49m\u001b[43m=\u001b[49m\u001b[43mrechunk\u001b[49m\u001b[43m,\u001b[49m\n\u001b[32m    706\u001b[39m \u001b[43m            \u001b[49m\u001b[43mnan_to_null\u001b[49m\u001b[43m=\u001b[49m\u001b[43mnan_to_null\u001b[49m\u001b[43m,\u001b[49m\n\u001b[32m    707\u001b[39m \u001b[43m            \u001b[49m\u001b[43minclude_index\u001b[49m\u001b[43m=\u001b[49m\u001b[43minclude_index\u001b[49m\u001b[43m,\u001b[49m\n\u001b[32m    708\u001b[39m \u001b[43m        \u001b[49m\u001b[43m)\u001b[49m\n\u001b[32m    709\u001b[39m     )\n\u001b[32m    710\u001b[39m \u001b[38;5;28;01melse\u001b[39;00m:\n\u001b[32m    711\u001b[39m     msg = \u001b[33mf\u001b[39m\u001b[33m\"\u001b[39m\u001b[33mexpected pandas DataFrame or Series, got \u001b[39m\u001b[38;5;132;01m{\u001b[39;00mqualified_type_name(data)\u001b[38;5;132;01m!r}\u001b[39;00m\u001b[33m\"\u001b[39m\n",
      "\u001b[36mFile \u001b[39m\u001b[32m~/miniforge3/envs/zillionare/lib/python3.12/site-packages/polars/_utils/construction/dataframe.py:1105\u001b[39m, in \u001b[36mpandas_to_pydf\u001b[39m\u001b[34m(data, schema, schema_overrides, strict, rechunk, nan_to_null, include_index)\u001b[39m\n\u001b[32m   1099\u001b[39m \u001b[38;5;28;01mif\u001b[39;00m \u001b[38;5;129;01mnot\u001b[39;00m _PYARROW_AVAILABLE:\n\u001b[32m   1100\u001b[39m     msg = (\n\u001b[32m   1101\u001b[39m         \u001b[33m\"\u001b[39m\u001b[33mpyarrow is required for converting a pandas dataframe to Polars, \u001b[39m\u001b[33m\"\u001b[39m\n\u001b[32m   1102\u001b[39m         \u001b[33m\"\u001b[39m\u001b[33munless each of its columns is a simple numpy-backed one \u001b[39m\u001b[33m\"\u001b[39m\n\u001b[32m   1103\u001b[39m         \u001b[33m\"\u001b[39m\u001b[33m(e.g. \u001b[39m\u001b[33m'\u001b[39m\u001b[33mint64\u001b[39m\u001b[33m'\u001b[39m\u001b[33m, \u001b[39m\u001b[33m'\u001b[39m\u001b[33mbool\u001b[39m\u001b[33m'\u001b[39m\u001b[33m, \u001b[39m\u001b[33m'\u001b[39m\u001b[33mfloat32\u001b[39m\u001b[33m'\u001b[39m\u001b[33m - not \u001b[39m\u001b[33m'\u001b[39m\u001b[33mInt64\u001b[39m\u001b[33m'\u001b[39m\u001b[33m)\u001b[39m\u001b[33m\"\u001b[39m\n\u001b[32m   1104\u001b[39m     )\n\u001b[32m-> \u001b[39m\u001b[32m1105\u001b[39m     \u001b[38;5;28;01mraise\u001b[39;00m \u001b[38;5;167;01mImportError\u001b[39;00m(msg)\n\u001b[32m   1106\u001b[39m arrow_dict = {}\n\u001b[32m   1107\u001b[39m length = data.shape[\u001b[32m0\u001b[39m]\n",
      "\u001b[31mImportError\u001b[39m: pyarrow is required for converting a pandas dataframe to Polars, unless each of its columns is a simple numpy-backed one (e.g. 'int64', 'bool', 'float32' - not 'Int64')"
     ]
    }
   ],
   "source": [
    "\n",
    "barss = bars_store.load_data(start, end)"
   ]
  },
  {
   "cell_type": "code",
   "execution_count": null,
   "id": "20b32844",
   "metadata": {},
   "outputs": [
    {
     "ename": "",
     "evalue": "",
     "output_type": "error",
     "traceback": [
      "\u001b[1;31mFailed to start the Kernel. \n",
      "\u001b[1;31mThe kernel died. Error: ... View Jupyter <a href='command:jupyter.viewOutput'>log</a> for further details."
     ]
    }
   ],
   "source": [
    "import polars as pl\n",
    "\n",
    "df = pl.read_parquet(\"/Users/aaronyang/workspace/data/ro/bars_1d_2005_2023.parquet\").to_pandas()\n",
    "\n",
    "pl.from_pandas(df)"
   ]
  },
  {
   "cell_type": "code",
   "execution_count": null,
   "id": "4681bec0-f77e-46bc-93d6-8ab44e0bb2dc",
   "metadata": {},
   "outputs": [],
   "source": [
    "from helper import qfq_adjustment\n",
    "barass_fq = qfq_adjustment(df = barss , adj_factor_col = 'adj_factor')"
   ]
  },
  {
   "cell_type": "code",
   "execution_count": null,
   "id": "5a0fff73-4944-4695-b8d2-f2e4a08061b6",
   "metadata": {},
   "outputs": [],
   "source": [
    "# barass_fq.to_parquet('barass_fq.parquet')"
   ]
  },
  {
   "cell_type": "code",
   "execution_count": null,
   "id": "dd4fc9c6-256b-4ff0-8d84-1219b0a37641",
   "metadata": {},
   "outputs": [],
   "source": [
    "barass_fq"
   ]
  },
  {
   "cell_type": "code",
   "execution_count": null,
   "id": "5bad823c-1ce8-4296-9f9a-709e628baedc",
   "metadata": {},
   "outputs": [],
   "source": [
    "ms = Moonshot(barass_fq)"
   ]
  },
  {
   "cell_type": "markdown",
   "id": "dd7c7741-ff39-4fa0-abd8-0396acf2a607",
   "metadata": {},
   "source": [
    "# 筛选股票池条件,注意加因子的时候有的因子是nan但是不能直接去掉对应的股票"
   ]
  },
  {
   "cell_type": "code",
   "execution_count": null,
   "id": "aad7ad47-a317-46e2-bc35-ef7384bdb2c6",
   "metadata": {},
   "outputs": [],
   "source": [
    "# 连续2年分红\n",
    "# 股息率排名前500\n",
    "# 十年无审计保留\n",
    "# 市值大于50亿元"
   ]
  },
  {
   "cell_type": "code",
   "execution_count": null,
   "id": "bd1e2c9c-44d7-47ab-97e0-78b709759bf8",
   "metadata": {},
   "outputs": [],
   "source": [
    "daily_basic_after = pd.read_parquet('daily_after.parquet')"
   ]
  },
  {
   "cell_type": "code",
   "execution_count": null,
   "id": "0f59d3b7-b6fc-4155-8fe5-53a773828e8a",
   "metadata": {},
   "outputs": [],
   "source": [
    "daily_basic_after"
   ]
  },
  {
   "cell_type": "code",
   "execution_count": null,
   "id": "e79f55d9-b749-4136-8e8a-e3c9f7e921e4",
   "metadata": {},
   "outputs": [],
   "source": [
    "ms.append_factor(daily_basic_after, \"total_mv\", resample_method=\"last\")"
   ]
  },
  {
   "cell_type": "code",
   "execution_count": null,
   "id": "04898d60-09be-456d-98da-969efad695c2",
   "metadata": {},
   "outputs": [],
   "source": [
    "ms.data"
   ]
  },
  {
   "cell_type": "code",
   "execution_count": null,
   "id": "6bccadd2-07d4-4cc1-b0d2-7cde860ec5e0",
   "metadata": {},
   "outputs": [],
   "source": [
    "# 看一下空值占比多少\n",
    "ms.data['total_mv'].isna().mean()"
   ]
  },
  {
   "cell_type": "code",
   "execution_count": null,
   "id": "db605720-acd4-47fb-997c-2480d3763101",
   "metadata": {},
   "outputs": [],
   "source": [
    "ms.append_factor(daily_basic_after, \"dv_ttm\", resample_method=\"last\")"
   ]
  },
  {
   "cell_type": "code",
   "execution_count": null,
   "id": "2f0475b5-6776-48ed-81a3-9741ceb80219",
   "metadata": {},
   "outputs": [],
   "source": [
    "ms.data"
   ]
  },
  {
   "cell_type": "code",
   "execution_count": null,
   "id": "04dcdfc2-582e-4d3f-81ee-fa49bf399b4b",
   "metadata": {},
   "outputs": [],
   "source": [
    "ms.data['dv_ttm'].isna().mean()"
   ]
  },
  {
   "cell_type": "code",
   "execution_count": null,
   "id": "a0b058f6-e5f1-4e8e-9d00-a7d2559aa8a3",
   "metadata": {},
   "outputs": [],
   "source": [
    "# 对比发现原本.parquet这列空值就有35%左右"
   ]
  },
  {
   "cell_type": "code",
   "execution_count": null,
   "id": "a7da4c54-b5a2-423f-93b0-17e9f53613da",
   "metadata": {},
   "outputs": [],
   "source": [
    "ms.append_factor(daily_basic_after, \"dividend_yield_2y_avg\", resample_method=\"last\")"
   ]
  },
  {
   "cell_type": "code",
   "execution_count": null,
   "id": "d9cd1820-d6e1-4b42-a7fd-bb588f8f6f27",
   "metadata": {},
   "outputs": [],
   "source": [
    "ms.data['dividend_yield_2y_avg'].isna().mean()"
   ]
  },
  {
   "cell_type": "code",
   "execution_count": null,
   "id": "c5c104e3-29fe-4c44-ba59-704f29fe6622",
   "metadata": {},
   "outputs": [],
   "source": [
    "ms.append_factor(daily_basic_after, \"DPR\", resample_method=\"last\")"
   ]
  },
  {
   "cell_type": "code",
   "execution_count": null,
   "id": "c9e59497-7eb2-4753-bf01-b0e4ff0831b2",
   "metadata": {},
   "outputs": [],
   "source": [
    "ms.data['DPR'].isna().mean()"
   ]
  },
  {
   "cell_type": "code",
   "execution_count": null,
   "id": "a1ba2b7f-200a-44d1-9354-bfe658c0a889",
   "metadata": {},
   "outputs": [],
   "source": [
    "# 之前没有计算换手率的波动\n",
    "df = daily_basic_after.sort_values(['asset', 'date'])  # 按股票和时间排序\n",
    "\n",
    "# 计算每个股票的换手率（turnover_rate_f）的30日滚动标准差\n",
    "df['turnover_rate_f_std'] = (\n",
    "    df.groupby('asset')['turnover_rate_f']\n",
    "    .rolling(window=20, min_periods=1)  # 可调：min_periods=1 表示数据不足30天时也计算\n",
    "    .std()\n",
    "    .reset_index(level=0, drop=True)  # 去掉 groupby 的多重索引\n",
    ")"
   ]
  },
  {
   "cell_type": "code",
   "execution_count": null,
   "id": "8c796e25-1b4d-4d4e-8d81-f45b4399ac54",
   "metadata": {},
   "outputs": [],
   "source": [
    "ms.append_factor(df, \"turnover_rate_f_std\", resample_method=\"last\")"
   ]
  },
  {
   "cell_type": "code",
   "execution_count": null,
   "id": "38a26b73-c9a2-4faa-a63e-c42871a9ea88",
   "metadata": {},
   "outputs": [],
   "source": [
    "ms.data['turnover_rate_f_std'].isna().mean()"
   ]
  },
  {
   "cell_type": "code",
   "execution_count": null,
   "id": "a7e5e607-c5a1-4b9e-ac3a-04fc9bbd5ec9",
   "metadata": {},
   "outputs": [],
   "source": []
  },
  {
   "cell_type": "code",
   "execution_count": null,
   "id": "7d53f6ca-d040-4590-8ba6-3a4c4abff4bb",
   "metadata": {},
   "outputs": [],
   "source": [
    "ms.append_factor(daily_basic_after, \"inv_pe_ttm_zscore_5y\", resample_method=\"last\")"
   ]
  },
  {
   "cell_type": "code",
   "execution_count": null,
   "id": "5ad356e1-1045-4c85-83f7-5c1b02a6a40f",
   "metadata": {},
   "outputs": [],
   "source": [
    "ms.data['inv_pe_ttm_zscore_5y'].isna().mean()"
   ]
  },
  {
   "cell_type": "code",
   "execution_count": null,
   "id": "43fb6653-427e-40b2-96e9-576d8b700c81",
   "metadata": {},
   "outputs": [],
   "source": []
  },
  {
   "cell_type": "code",
   "execution_count": null,
   "id": "0c2faa00-ffc9-4da8-9261-cc46d7358863",
   "metadata": {},
   "outputs": [],
   "source": [
    "# 之前没有算div相比上个月的增加还是减少了\n",
    "# 按股票和日期排序（先确保顺序正确）\n",
    "df = daily_basic_after.sort_values(['asset', 'date'])\n",
    "\n",
    "# 获取20天前的 dividend_ttm 值\n",
    "df['dividend_ttm_20d_ago'] = df.groupby('asset')['dividend_ttm'].shift(20)\n",
    "\n",
    "# 判断是否增加\n",
    "df['dividend_ttm_increase_1M'] = (\n",
    "    df['dividend_ttm'] > df['dividend_ttm_20d_ago']\n",
    ")"
   ]
  },
  {
   "cell_type": "code",
   "execution_count": null,
   "id": "4bd2080a-d9bb-4edc-93e8-ce92853efb09",
   "metadata": {},
   "outputs": [],
   "source": [
    "ms.append_factor(df, \"dividend_ttm_increase_1M\", resample_method=\"last\")"
   ]
  },
  {
   "cell_type": "code",
   "execution_count": null,
   "id": "a7828f11-d073-47e5-858b-5e959576484c",
   "metadata": {},
   "outputs": [],
   "source": [
    "ms.data['dividend_ttm_increase_1M'].isna().mean()"
   ]
  },
  {
   "cell_type": "code",
   "execution_count": null,
   "id": "9984148d-b544-438d-a544-ead2d657186b",
   "metadata": {},
   "outputs": [],
   "source": []
  },
  {
   "cell_type": "code",
   "execution_count": null,
   "id": "867b6b56-99a9-49a3-9132-995c8d5fbe69",
   "metadata": {},
   "outputs": [],
   "source": [
    "holder = pd.read_parquet('holdernum.parquet')"
   ]
  },
  {
   "cell_type": "code",
   "execution_count": null,
   "id": "d788e856-ef50-4162-9181-3347552bdc05",
   "metadata": {},
   "outputs": [],
   "source": [
    "holder.rename(columns={\"ts_code\": \"asset\",\"z_score\": \"holder_zscore\"}, inplace=True)"
   ]
  },
  {
   "cell_type": "code",
   "execution_count": null,
   "id": "214e85ae-026e-4a79-9549-58dc7f155b01",
   "metadata": {},
   "outputs": [],
   "source": [
    "final_audit_df = pd.read_parquet('audit_reserve_flag.parquet')"
   ]
  },
  {
   "cell_type": "code",
   "execution_count": null,
   "id": "5a988e7e-de81-48c0-aee0-246d1aa69793",
   "metadata": {},
   "outputs": [],
   "source": [
    "final_audit_df"
   ]
  },
  {
   "cell_type": "code",
   "execution_count": null,
   "id": "f2fbd8dd-0d7d-446b-bb01-477de05e3c88",
   "metadata": {},
   "outputs": [],
   "source": [
    "final_audit_df.rename(columns={\"ts_code\": \"asset\"}, inplace=True)"
   ]
  },
  {
   "cell_type": "code",
   "execution_count": null,
   "id": "0b598d8a-24cd-41bc-84f3-2cfa55c47424",
   "metadata": {},
   "outputs": [],
   "source": [
    "ms.append_factor(final_audit_df, \"has_audit_reserve\", resample_method=\"last\")"
   ]
  },
  {
   "cell_type": "code",
   "execution_count": null,
   "id": "604127ad-b208-4886-b19d-87f98c63e56a",
   "metadata": {},
   "outputs": [],
   "source": [
    "ms.append_factor(holder, \"holder_zscore\", resample_method=\"last\")"
   ]
  },
  {
   "cell_type": "code",
   "execution_count": null,
   "id": "1be8db2e-d825-4547-b3f1-4fbcff054695",
   "metadata": {},
   "outputs": [],
   "source": [
    "ms.data['has_audit_reserve'].isna().mean()"
   ]
  },
  {
   "cell_type": "code",
   "execution_count": null,
   "id": "7d7da7f5-6c48-4785-9b62-832362db4a3d",
   "metadata": {},
   "outputs": [],
   "source": [
    "ms.data['holder_zscore'].isna().mean()"
   ]
  },
  {
   "cell_type": "code",
   "execution_count": null,
   "id": "06e1d8f8-442f-4e4f-aed4-531d357f8e0c",
   "metadata": {},
   "outputs": [],
   "source": [
    "# holder_zscore空值也很多需要检查一下"
   ]
  },
  {
   "cell_type": "code",
   "execution_count": null,
   "id": "2cbf766e-4d2c-48d6-81b9-dbcc87a405f8",
   "metadata": {},
   "outputs": [],
   "source": [
    "n_cashflow_act =pd.read_parquet('n_cashflow_act.parquet')"
   ]
  },
  {
   "cell_type": "code",
   "execution_count": null,
   "id": "bd550b25-34b6-474c-9f76-f7cd061d11c2",
   "metadata": {},
   "outputs": [],
   "source": [
    "n_cashflow_act.rename(columns={\"ts_code\": \"asset\"}, inplace=True)"
   ]
  },
  {
   "cell_type": "code",
   "execution_count": null,
   "id": "6412f645-de96-47cf-a495-419b76ce6630",
   "metadata": {},
   "outputs": [],
   "source": [
    "income_8q_zscore = pd.read_parquet('income_8q_zscore.parquet')"
   ]
  },
  {
   "cell_type": "code",
   "execution_count": null,
   "id": "8ed1647d-0915-49e9-a0d0-2b55f5523128",
   "metadata": {},
   "outputs": [],
   "source": [
    "income_8q_zscore.rename(columns={\"ts_code\": \"asset\"}, inplace=True)"
   ]
  },
  {
   "cell_type": "code",
   "execution_count": null,
   "id": "601acb9e-b8ef-4b40-a604-999c984d507e",
   "metadata": {},
   "outputs": [],
   "source": [
    "balancesheet_asset_profit = pd.read_parquet('balancesheet_asset_profit.parquet')"
   ]
  },
  {
   "cell_type": "code",
   "execution_count": null,
   "id": "ece2ec28-db11-463a-84f3-f3b92629761b",
   "metadata": {},
   "outputs": [],
   "source": [
    "balancesheet_asset_profit.rename(columns={\"ts_code\": \"asset\"}, inplace=True)"
   ]
  },
  {
   "cell_type": "code",
   "execution_count": null,
   "id": "51cf1f79-1d21-4d6f-b45d-9f92ec90ef6c",
   "metadata": {},
   "outputs": [],
   "source": [
    "ms.append_factor(n_cashflow_act, \"n_cashflow_act\", resample_method=\"last\")"
   ]
  },
  {
   "cell_type": "code",
   "execution_count": null,
   "id": "8c555c71-973d-425f-b31f-e0057d8f343f",
   "metadata": {},
   "outputs": [],
   "source": [
    "ms.append_factor(income_8q_zscore, \"profit_z_score\", resample_method=\"last\") "
   ]
  },
  {
   "cell_type": "code",
   "execution_count": null,
   "id": "2167e205-ca9a-4fff-a1cf-993f723155e5",
   "metadata": {},
   "outputs": [],
   "source": [
    "ms.append_factor(balancesheet_asset_profit, \"undistr_porfit\", resample_method=\"last\") "
   ]
  },
  {
   "cell_type": "code",
   "execution_count": null,
   "id": "4e289017-d015-4dfc-aa5a-0689dbe13c2a",
   "metadata": {},
   "outputs": [],
   "source": [
    "ms.append_factor(balancesheet_asset_profit, \"total_assets\", resample_method=\"last\") "
   ]
  },
  {
   "cell_type": "code",
   "execution_count": null,
   "id": "e8997920-4561-4290-b566-921f546972a9",
   "metadata": {},
   "outputs": [],
   "source": [
    "ms.data['n_cashflow_act'].isna().mean()"
   ]
  },
  {
   "cell_type": "code",
   "execution_count": null,
   "id": "79ccfdd6-d376-4763-a91f-8855ffbbf539",
   "metadata": {},
   "outputs": [],
   "source": [
    "ms.data['profit_z_score'].isna().mean()"
   ]
  },
  {
   "cell_type": "code",
   "execution_count": null,
   "id": "902bc474-192b-4774-b51b-d7c5cedb41ff",
   "metadata": {},
   "outputs": [],
   "source": [
    "ms.data['undistr_porfit'].isna().mean()"
   ]
  },
  {
   "cell_type": "code",
   "execution_count": null,
   "id": "f36501d1-3a59-4af4-8b1b-d3afa4fd7398",
   "metadata": {},
   "outputs": [],
   "source": [
    "ms.data['total_assets'].isna().mean()"
   ]
  },
  {
   "cell_type": "code",
   "execution_count": null,
   "id": "c30f23ea-47a1-4574-a6c8-633571701cae",
   "metadata": {},
   "outputs": [],
   "source": [
    "ms.data"
   ]
  },
  {
   "cell_type": "code",
   "execution_count": null,
   "id": "47af7d9e-afa7-494c-bdbf-0d9702a4e6ee",
   "metadata": {},
   "outputs": [],
   "source": [
    "# 分2步screen\n",
    "# 先筛选股票池，是4个条件"
   ]
  },
  {
   "cell_type": "code",
   "execution_count": null,
   "id": "e1d87a1a-236e-4bea-81c4-f3eecb298ab3",
   "metadata": {},
   "outputs": [],
   "source": [
    "ms.data.columns"
   ]
  },
  {
   "cell_type": "code",
   "execution_count": null,
   "id": "61f36255-9700-4350-94f2-94d260207e47",
   "metadata": {},
   "outputs": [],
   "source": []
  },
  {
   "cell_type": "code",
   "execution_count": null,
   "id": "38de48be-1a53-4023-ab41-68536d2d9af1",
   "metadata": {},
   "outputs": [],
   "source": [
    "def stock_pool_filter(data: pd.DataFrame) -> pd.Series:\n",
    "    \"\"\"\n",
    "    股票池初筛：筛选高质量分红股，满足以下4个条件：\n",
    "    1. 每月股息率前 500 名\n",
    "    2. 连续两年有分红（两年平均股息率 > 0）\n",
    "    3. 无审计保留意见（has_audit_reserve 为 False）\n",
    "    4. 总市值 >= 50 亿\n",
    "\n",
    "    返回：\n",
    "        pd.Series：筛选标记，值为 0 或 1，index 与 data 对齐\n",
    "    \"\"\"\n",
    "\n",
    "    df = data.copy()\n",
    "\n",
    "    # 1. 股息率前 top_n 名（每月）\n",
    "    dv_rank = df.groupby(level=\"month\")['dv_ttm'].transform(lambda x: x.rank(method='first', ascending=False))\n",
    "    cond1 = dv_rank <= 500\n",
    "    # 但是股息率本身就带很多空值\n",
    "\n",
    "    # # 2. 连续两年有分红\n",
    "    cond2 = df['dividend_yield_2y_avg'] > 0\n",
    "\n",
    "    # # 3. 无审计保留意见\n",
    "    cond3 = df['has_audit_reserve'] == False\n",
    "    # 可以看一下是否有必要放宽这个条件\n",
    "\n",
    "    # 4. 总市值 > 50亿\n",
    "    # 总市值 （万元）\n",
    "    cond4 = df['total_mv'] >= 500000\n",
    "    #  \n",
    "    # 逻辑与汇总\n",
    "    flag =  cond1 & cond2 & cond3 & cond4\n",
    "    \n",
    "    return flag.astype(int)"
   ]
  },
  {
   "cell_type": "code",
   "execution_count": null,
   "id": "dabf9ad5-aed6-4b62-ad1d-a05705be168b",
   "metadata": {},
   "outputs": [],
   "source": [
    "# 先用这4个测试一下，看一下会不会过多空值被过滤了\n",
    "# 单独用股息率会剩 0.11左右\n",
    "# 市值会去掉一半左右\n",
    "# 审计剩0.83\n",
    "# 连续两年分红剩0.496\n",
    "# 对比之前的连续2年分红算法,之前剩余0.06305968114016934，但是时间周期不完全一样，看一下回测是否相似\n",
    "# 现在全部筛完剩0.066"
   ]
  },
  {
   "cell_type": "code",
   "execution_count": null,
   "id": "23a80a86-5569-446b-a5b3-9813e91dabbe",
   "metadata": {},
   "outputs": [],
   "source": [
    "ms.screen(stock_pool_filter, data=ms.data) "
   ]
  },
  {
   "cell_type": "code",
   "execution_count": null,
   "id": "75014cb5-25af-4731-a544-84c7cd84b66b",
   "metadata": {},
   "outputs": [],
   "source": [
    "(ms.data['flag'] == 1).sum() / len(ms.data)"
   ]
  },
  {
   "cell_type": "code",
   "execution_count": null,
   "id": "b59532b8-93e4-4955-a939-69c7b50887c9",
   "metadata": {},
   "outputs": [],
   "source": [
    "# ms.data['flag'] = 1 # 重置一下"
   ]
  },
  {
   "cell_type": "code",
   "execution_count": null,
   "id": "050887dd-f322-4283-a661-6e9190fac5a9",
   "metadata": {},
   "outputs": [],
   "source": [
    "ms.screen(stock_pool_filter, data=ms.data).calculate_returns().report()"
   ]
  },
  {
   "cell_type": "raw",
   "id": "be0be8f6-0609-4726-a383-bd8ee4d60bb6",
   "metadata": {},
   "source": [
    "研报中说因子标准分，没有明确说因子标准分的计算细节\n",
    "\n",
    "两年股息率均值\t越大越好\tdividend_yield_2y_avg\n",
    "净利润zscore\t越大越好\tprofit_z_score\n",
    "股东数量变化zscore\t越小越好（反转）\tholder_zscore\n",
    "换手率波动\t越小越好（反转）\tturnover_rate_f_std\n",
    "\n",
    "派息率前5分之一\tdv_ttm\t+1   派息率后5分之一\tdv_ttm\t-1\n",
    "经营现金流/资产比后5分之一\tn_cashflow_act / total_assets\t-1\n",
    "留存收益/资产比后5分之一\tundistr_porfit / total_assets\t-1\n",
    "EP 前5分之一\tinv_pe_ttm_zscore_5y\t+1   EP 后5分之一\t同上\t-1\n",
    "分红预案日至股东大会公告日之间\t这个暂时不做\n",
    "最近1月分红TTM增长\tdividend_ttm_increase_1M\t+1"
   ]
  },
  {
   "cell_type": "code",
   "execution_count": null,
   "id": "c4cc6659-17f0-49f4-bc93-b274097020aa",
   "metadata": {},
   "outputs": [],
   "source": [
    "def stock_pool_filter(data: pd.DataFrame) -> pd.Series:\n",
    "    \"\"\"\n",
    "    股票池初筛：筛选高质量分红股，满足以下4个条件：\n",
    "    1. 每月股息率前 500 名\n",
    "    2. 连续两年有分红（两年平均股息率 > 0）\n",
    "    3. 无审计保留意见（has_audit_reserve 为 False）\n",
    "    4. 总市值 >= 50 亿\n",
    "\n",
    "    返回：\n",
    "        pd.Series：筛选标记，值为 0 或 1，index 与 data 对齐\n",
    "    \"\"\"\n",
    "\n",
    "    df = data.copy()\n",
    "\n",
    "    # 1. 股息率前 top_n 名（每月）\n",
    "    dv_rank = df.groupby(level=\"month\")['dv_ttm'].transform(lambda x: x.rank(method='first', ascending=False))\n",
    "    cond1 = dv_rank <= 500\n",
    "    # 但是股息率本身就带很多空值\n",
    "\n",
    "    # # 2. 连续两年有分红\n",
    "    cond2 = df['dividend_yield_2y_avg'] > 0\n",
    "\n",
    "    # # 3. 无审计保留意见\n",
    "    cond3 = df['has_audit_reserve'] == False\n",
    "    # 可以看一下是否有必要放宽这个条件\n",
    "\n",
    "    # 4. 总市值 > 50亿\n",
    "    # 总市值 （万元）\n",
    "    cond4 = df['total_mv'] >= 500000\n",
    "    #  \n",
    "    # 逻辑与汇总\n",
    "    flag =  cond1 & cond2 & cond3 & cond4\n",
    "    \n",
    "    return flag.astype(int)"
   ]
  },
  {
   "cell_type": "code",
   "execution_count": null,
   "id": "bc1d1166-5c41-4943-a3bc-3e4af1a487b4",
   "metadata": {},
   "outputs": [],
   "source": [
    "def basic_factor_screen(data: pd.DataFrame, top_n: int = 30) -> pd.Series:\n",
    "    df = data.copy()\n",
    "\n",
    "    # 只对上一层筛选通过的股票打分\n",
    "    if 'flag' in df.columns:\n",
    "        df = df[df['flag'] == 1].copy()\n",
    "\n",
    "    factor_rank_info = {\n",
    "        'dividend_yield_2y_avg': True,\n",
    "        'profit_z_score': True,\n",
    "        'holder_zscore': False,          # 反转因子，越小越好\n",
    "        'turnover_rate_f_std': False,    # 反转因子，越小越好\n",
    "    }\n",
    "    # 注意： 正向因子越大越好，反向因子越小越好，总分越高越优\n",
    "    \n",
    "    def rank_func(s, is_positive):\n",
    "        if not is_positive:\n",
    "            s = -s\n",
    "        r = s.rank(method='average', ascending=True) # 注意这里是越大越好\n",
    "        r = r.fillna(0)  # 缺失值最差（得分最低）\n",
    "        return r\n",
    "\n",
    "\n",
    "    def zscore_func(s, is_positive):\n",
    "        \"\"\"\n",
    "        截面标准分（Z-score）\n",
    "        正向因子：值越大得分越高；\n",
    "        反向因子：值越小得分越高（取负后再标准化）。\n",
    "        \"\"\"\n",
    "        s = s.copy()\n",
    "        if not is_positive:\n",
    "            s = -s\n",
    "    \n",
    "        mean = s.mean(skipna=True)\n",
    "        std = s.std(skipna=True)\n",
    "        \n",
    "        if pd.isna(std) or std == 0:\n",
    "            # 若该月该因子无波动（std=0或全NaN），则返回0分\n",
    "            return pd.Series(0, index=s.index)\n",
    "    \n",
    "        z = (s - mean) / std\n",
    "        z = z.fillna(0)  # 缺失值给0分（中性）\n",
    "        return z\n",
    "    \n",
    "\n",
    "    def quantile_signal(s, upper=0.2, lower=0.2):\n",
    "        s = s.copy()\n",
    "        if s.notna().sum() == 0:\n",
    "            # 全部缺失，返回全 0\n",
    "            return pd.Series(0, index=s.index)\n",
    "        high_q = s.quantile(1 - upper)\n",
    "        low_q = s.quantile(lower)\n",
    "        res = s.apply(lambda x: 1 if x >= high_q else (-1 if x <= low_q else 0))\n",
    "        res = res.fillna(0)\n",
    "        return res\n",
    "\n",
    "    def dividend_signal(s, upper=0.2, lower=0.2):\n",
    "        s = s.copy()\n",
    "        if s.notna().sum() == 0:\n",
    "            return pd.Series(0, index=s.index, dtype=int)\n",
    "    \n",
    "        high_q = s.quantile(1 - upper)\n",
    "        low_q = s.quantile(lower)\n",
    "    \n",
    "        res = s.apply(lambda x: -1 if x >= high_q else (-1 if x <= low_q else 0))\n",
    "        return res.fillna(0).astype(int)\n",
    "    \n",
    "\n",
    "\n",
    "    \n",
    "    df['undistr_ratio'] = np.where(df['total_assets'] == 0, np.nan,\n",
    "                                   df['undistr_porfit'] / df['total_assets'])\n",
    "    df['cf_ratio'] = np.where(df['total_assets'] == 0, np.nan,\n",
    "                              df['n_cashflow_act'] / df['total_assets'])\n",
    "\n",
    "    \n",
    "    df['score_dv_ttm'] = df.groupby('month')['dv_ttm'].transform(dividend_signal)\n",
    "    df['score_ep'] = df.groupby('month')['inv_pe_ttm_zscore_5y'].transform(quantile_signal)\n",
    "    \n",
    "    df['score_cf'] = df.groupby('month')['cf_ratio'].transform(\n",
    "        lambda s: (s <= s.quantile(0.2)).astype(int) * -1\n",
    "    )\n",
    "    df['score_undistr'] = df.groupby('month')['undistr_ratio'].transform(\n",
    "        lambda s: (s <= s.quantile(0.2)).astype(int) * -1\n",
    "    )\n",
    "    \n",
    "    df['score_dividend_increase'] = df['dividend_ttm_increase_1M'].fillna(False).astype(int)\n",
    "\n",
    "    for fac, is_positive in factor_rank_info.items():\n",
    "        df[f\"{fac}_score\"] = (\n",
    "            df.groupby('month')[fac]\n",
    "              .transform(lambda s: zscore_func(s, is_positive))\n",
    "        )\n",
    "        \n",
    "    score_cols = [f\"{fac}_score\" for fac in factor_rank_info] + [\n",
    "        'score_dv_ttm', 'score_cf', 'score_undistr',\n",
    "        'score_ep', 'score_dividend_increase'\n",
    "    ]\n",
    "\n",
    "    # score_cols = ['score_dv_ttm', 'score_cf', 'score_undistr','score_ep', 'score_dividend_increase']\n",
    "\n",
    "    # 总分：越高越好\n",
    "    df['total_score'] = df[score_cols].sum(axis=1)\n",
    "    # 只在已通过筛选的股票中选 top_n，注意top-n这里rank重新变成了真正的排名，rank越小代表排名越高\n",
    "    flag = (\n",
    "        df.groupby('month')['total_score']\n",
    "          .transform(lambda s: (s.rank(method='first', ascending=False) <= top_n).astype(int))\n",
    "    )\n",
    "    # 对齐回原索引（未筛选股票置 0）\n",
    "    flag = flag.reindex(data.index).fillna(0).astype(int)\n",
    "\n",
    "    return flag"
   ]
  },
  {
   "cell_type": "code",
   "execution_count": null,
   "id": "2641589e-9c37-4ec3-adac-2757d8d11cdf",
   "metadata": {},
   "outputs": [],
   "source": [
    "ms.screen(stock_pool_filter, data=ms.data)\n",
    "ms.screen(basic_factor_screen, data=ms.data, top_n=30)\n",
    "(ms.data['flag'] == 1).sum() / len(ms.data)\n",
    "ms.calculate_returns()\n",
    "ms.report()"
   ]
  },
  {
   "cell_type": "code",
   "execution_count": null,
   "id": "57b0e33b-01d4-48c2-b727-67d39ad96bdc",
   "metadata": {},
   "outputs": [],
   "source": []
  }
 ],
 "metadata": {
  "kernelspec": {
   "display_name": "zillionare",
   "language": "python",
   "name": "python3"
  },
  "language_info": {
   "codemirror_mode": {
    "name": "ipython",
    "version": 3
   },
   "file_extension": ".py",
   "mimetype": "text/x-python",
   "name": "python",
   "nbconvert_exporter": "python",
   "pygments_lexer": "ipython3",
   "version": "3.12.12"
  }
 },
 "nbformat": 4,
 "nbformat_minor": 5
}
