{
 "cells": [
  {
   "cell_type": "markdown",
   "id": "0b0a6d23",
   "metadata": {},
   "source": [
    "---\n",
    "date: 2023-01-01\n",
    "---\n",
    "\n",
    "这个系列的跨度有点久了，在开始之前，先做一个前情提要。这个系列我们选择的是中金2023年12月的一份研报，名为《在手之鸟，红利优选策略》。它是一个基本面策略，通过这份研报的实现，我们可以了解到："
   ]
  },
  {
   "cell_type": "markdown",
   "id": "34824b80",
   "metadata": {},
   "source": [
    "```` {note}\n",
    "1. 如何获取各种基本面数据，并且对部分数据的含义及编纂方法进行讲解\n",
    "2. 月度调仓换股回测策略应该如何实现\n",
    "3. 获得一个红利优选基础策略。通过适当改变参数，即可用以实战。\n",
    "````\n"
   ]
  },
  {
   "cell_type": "markdown",
   "id": "ad7651cc",
   "metadata": {},
   "source": [
    "该策略要用到以下数据：\n",
    "\n",
    "1. 行情数据。任何策略都默认需要它，至少会在计算远期收益时使用。 \n",
    "2. 股息率，用来按股息率筛选个股，以及计算两年股息率均值因子。 \n",
    "3. 分红数据。只有过去两年连续分红的公司才能入选。 \n",
    "4. 审计意见。只有过去十年没有审计保留意见的公司才能入选。\n",
    "5. 市值数据。只有市值大于50亿的公司才能入选。 \n",
    "6. 净利润、营业收入和营业利润数据，用来计算净利润稳定性因子。\n",
    "7. 股东数量变化 \n",
    "8. 换手率。用来计算换手波动率。\n",
    "9. pe_ttm，用来计算 ep 因子。\n",
    "10. 经营现金流数据，用来计算经营现金流资产比因子。\n",
    "11. 资产总计数据，与10一起，用来计算经营现金流资产比因子。 \n",
    "12. 盈余公积金数据。与11一起，用来计算留存收益资产比因子。"
   ]
  },
  {
   "cell_type": "code",
   "execution_count": null,
   "id": "41cd47c9",
   "metadata": {},
   "outputs": [
    {
     "ename": "",
     "evalue": "",
     "output_type": "error",
     "traceback": [
      "\u001b[1;31mThe kernel failed to start due to the missing module 'comm'. Consider installing this module.\n",
      "\u001b[1;31mClick <a href='https://aka.ms/kernelFailuresMissingModule'>here</a> for more info."
     ]
    }
   ],
   "source": [
    "import sys\n",
    "\n",
    "sys.path.append(str(Path(\".\").parent))\n",
    "\n",
    "from helper import (\n",
    "    ParquetUnifiedStorage,\n",
    "    dividend_yield_screen,\n",
    "    fetch_bars,\n",
    "    fetch_dv_ttm,\n",
    ")\n",
    "import tushare as ts\n",
    "from moonshot import Moonshot\n"
   ]
  },
  {
   "cell_type": "markdown",
   "id": "2151b42e",
   "metadata": {},
   "source": [
    "在前面的分期文章中，我们已经获得了第1~2步的数据，并实现了按股息率进行票池筛选。回测表明，仅仅是通过股息率因子，我们就可以获得一定的年化超额，和更好的夏普比。\n",
    "\n",
    "在这一期，我们将探讨如何把分红数据也纳入进来。研报要求，只有过去两年连续分红的公司才能入选票池。这是一个**看似简单，但实现上有一点点复杂度的需求**。这里实际上有一些魔术师的戏法，荟聚了多个 pandas的技巧，才为一个简单的需求，提供了简洁的实现，而这也正是作者一直追求的目标。\n",
    "\n",
    "## 获取分红数据\n",
    "\n",
    "在上一篇中，我们已经获取了股息率数据，但要实现『连续两年分红』这个条件，为精确起见，我们不能把『连续两年股息率大于零』来当成『连续两年分红』，而是要直接获取分红原始记录。"
   ]
  },
  {
   "cell_type": "markdown",
   "id": "075c2d89",
   "metadata": {},
   "source": [
    "```` {hint}\n",
    "通过 daily_basic 获得的股息率是一个按过去12个月滚动计算的股息率。根据它的计算方式，就可能存在这样的情况，比如2023年12月进行了分红，2024年全年没有分红，但是直到2024年11月，股息率都会一直大于零。如此一来，在2025年2月，当我们问道，该股是否连续两年分红时，就会得到一个错误结果。在这方面，分红记录可能略微精确一点。\n",
    "````\n"
   ]
  },
  {
   "cell_type": "markdown",
   "id": "28543745",
   "metadata": {},
   "source": [
    "在 tushare 中，我们要通过 dividend 接口来获取分红数据。回测发生在2018年到2023年之间，我们再一次遇到如何在 tushare 中，获取这么长跨度的数据的问题。根据我们之前的讨论，我们应该选择一次查询可以获得最多数据的接口（参数）。\n",
    "\n",
    "该接口签名如下："
   ]
  },
  {
   "cell_type": "markdown",
   "id": "b354e231",
   "metadata": {},
   "source": [
    "```{code-block} python\n",
    "def dividend(ts_code: str|None = None, ann_date: str|None = None, record_date: str|None = None, ex_date: str|None = None, imp_ann_date: str|None = None):\n",
    "    pass\n",
    "```\n"
   ]
  },
  {
   "cell_type": "markdown",
   "id": "5431cb9d",
   "metadata": {},
   "source": [
    "但是，如果按这些**『列出来』**参数来进行查询，每次返回的数据量会很小，导致获取数据时间过长。这里我们又发现了一个**隐藏参数**，大家可以根据自己的情况来决定是否采用。这个参数就是 end_date。我们把使用各个参数进行查询所能得到的记录数比较一下："
   ]
  },
  {
   "cell_type": "code",
   "execution_count": null,
   "id": "9c5c540d",
   "metadata": {},
   "outputs": [
    {
     "ename": "",
     "evalue": "",
     "output_type": "error",
     "traceback": [
      "\u001b[1;31mThe kernel failed to start due to the missing module 'comm'. Consider installing this module.\n",
      "\u001b[1;31mClick <a href='https://aka.ms/kernelFailuresMissingModule'>here</a> for more info."
     ]
    }
   ],
   "source": [
    "pro = ts.pro_api()\n",
    "\n",
    "df_ann = pro.dividend(ann_date=\"20250419\")\n",
    "print(\"ann_date 一次返回数据: \", len(df_ann))\n",
    "\n",
    "df_end = pro.dividend(end_date=\"20241231\", offse=0, limit=6000)\n",
    "print(\"end_date 一次返回数据：\", len(df_end))\n",
    "\n",
    "df_ex = pro.dividend(ex_date=\"20250419\")\n",
    "print(\"ex_date 一次返回数据：\", len(df_ex))\n",
    "\n",
    "df_record = pro.dividend(record_date=\"20250419\")\n",
    "print(\"record_date 一次返回数据：\", len(df_record))\n",
    "\n",
    "df_imp = pro.dividend(imp_ann_date=\"20250419\")\n",
    "print(\"imp_ann_date 一次返回数据：\", len(df_imp))\n"
   ]
  },
  {
   "cell_type": "code",
   "execution_count": null,
   "id": "1e07e809",
   "metadata": {},
   "outputs": [
    {
     "ename": "",
     "evalue": "",
     "output_type": "error",
     "traceback": [
      "\u001b[1;31mThe kernel failed to start due to the missing module 'comm'. Consider installing this module.\n",
      "\u001b[1;31mClick <a href='https://aka.ms/kernelFailuresMissingModule'>here</a> for more info."
     ]
    }
   ],
   "source": [
    "df_ann"
   ]
  },
  {
   "cell_type": "markdown",
   "id": "6510636b",
   "metadata": {},
   "source": [
    "可以看到，使用 end_date 参数，可以获得的数据远远超过其它参数；但是，它的limit 并不是我们常见的6000，而是只能返回2000。这些行为上的不一致，是我们要注意的。\n",
    "\n",
    "由于这里的 limit 只有2000，而现在 A 股有5000多支个股，所以，我们在通过 end_date获取数据时，还必须通过 offset/limit 多次调用，才能取全一天的数据。\n",
    "\n",
    "下面的代码演示了如何取区间[start, end]之间的数据："
   ]
  },
  {
   "cell_type": "code",
   "execution_count": 2,
   "id": "f8d9c981",
   "metadata": {},
   "outputs": [],
   "source": [
    "import time\n",
    "\n",
    "\n",
    "def fetch_dividend(start: datetime.date, end: datetime.date):\n",
    "    dates = pd.date_range(start, end)\n",
    "    dfs = []\n",
    "    limit = 2000\n",
    "    for dt in dates:\n",
    "        # 对每一个交易日，都可能有超过 limit 条记录\n",
    "        for offset in range(0, 99):\n",
    "            str_date = dt.strftime(\"%Y%m%d\")\n",
    "            df = pro.dividend(end_date=str_date, offset=offset * limit)\n",
    "            dfs.append(df)\n",
    "            if len(df) < 2000:\n",
    "                break\n",
    "\n",
    "    # 如果取太快，会导致 tushare 拒绝访问\n",
    "    time.sleep(0.125)\n",
    "    data = pd.concat(dfs)\n",
    "    data[\"date\"] = pd.to_datetime(data[\"ann_date\"]).dt.date\n",
    "    return data.rename(columns={\"ts_code\": \"asset\"})\n"
   ]
  },
  {
   "cell_type": "markdown",
   "id": "ff5338c3",
   "metadata": {},
   "source": [
    "```` {warning}\n",
    "在本系列前面的章节中，我们在计算[start, end]之间的日期列表时，一般使用 bdate_range。它将获取一个排除了周六、周日的日期列表（但显然它不懂黄金周）。使用它来获取交易数据是 OK 的。但是，基本面数据可能发表在任何一天，所以，在这里，我们必须遍历全部日历，才能确保不漏掉一条数据。你有没有犯过类似的错误，从而不得不为排错浪费掉一个周末呢？\n",
    "````\n"
   ]
  },
  {
   "cell_type": "markdown",
   "id": "78ae9104",
   "metadata": {},
   "source": [
    "在最后，我们对数据进行了一些处理，使得返回的数据包含 asset, date 这两列，以便我们能像其它数据一样，自动化地利用缓存。\n",
    "\n",
    "现在，我们就用之前开发的缓存来保存这些数据："
   ]
  },
  {
   "cell_type": "markdown",
   "id": "0f3052b9",
   "metadata": {},
   "source": [
    "```{code-block} python\n",
    "# 本段代码已在课程环境中运行，数据已缓存，请勿重复运行\n",
    "path = data_home / \"rw/dividend.parquet\"\n",
    "store = ParquetUnifiedStorage(store_path = path)\n",
    "\n",
    "for yr in (2018, 2019, 2020, 2021, 2022, 2023):\n",
    "    start = datetime.date(yr, 1, 1)\n",
    "    end = datetime.date(yr, 12, 31)\n",
    "\n",
    "    data = fetch_dividend(start, end)\n",
    "    store.append_data(data[data[\"div_proc\"] == \"实施\"])\n",
    "\n",
    "print(store.start, store.end)\n",
    "store\n",
    "```\n"
   ]
  },
  {
   "cell_type": "markdown",
   "id": "f49626b6",
   "metadata": {},
   "source": [
    "分段获取的原因是为了保证万一出错，我们也不会损失太多数据。\n",
    "\n",
    "文档没有说明这些记录是如何编纂的。根据我们的分析，公司可能在一年内有多次分红（可惜这样的公司太少了，所以你才不得不放弃价值投资，转学量化！）；对每一次分红，它可能有多条记录，分别对应于预案、股东大会通过和实施三个阶段。\n",
    "\n",
    "对我们本次需求来说，只要关注『预案』阶段的记录就好。因为预案一旦发布，相关炒作资金就会闻风而动，不会等到实施阶段。在预案中，我们又只需要关注 end_date, ann_date，这是计算是否有连续两年分红的关键。\n",
    "\n",
    "但是，请注意在示例代码，我们保存的是 div_proc 取值等于『实施』的记录。因为这条记录已经包含了预案阶段的全部信息，同时又提供了实施阶段的一些额外信息，还可以为今后其它用途使用。不过，我们要注意，在回测中，当我们把 ann_date 当成最新的时刻时，是不能去读 cash_div，record_date, ex_date 等信息的，此时它们还是『未来数据』"
   ]
  },
  {
   "cell_type": "markdown",
   "id": "74458fb1",
   "metadata": {},
   "source": [
    "```` {tip}\n",
    "tushare 的记录中给出了税后分红(cash_div)，但文档中并没有明确指出它的计算方法，欢迎讨论！按相关法规，企业与个人股东的分红税率不一样，个人股东持有时间长短不一样，分红税率也不一样。因此，理论上讲，每一个 cash_div_tax，都应该对应多个 cash_div -- 看谁来读它。\n",
    "````\n"
   ]
  },
  {
   "cell_type": "markdown",
   "id": "f35f859a",
   "metadata": {},
   "source": [
    "要如何判断某只股票是否连续两年分红呢？最好是通过一个数据实例。不过，在讨论之前，我们要对数据进行一些预处理，这样讨论起来才会更加清晰易懂。\n",
    "\n",
    "## 预处理和生成索引\n",
    "\n",
    "判断『是否连续两年分红』的关键是，在每个月末，判断前两个年度（或者今年、去年）的分红方案是否已宣布。如果是，则我们可以标记该月为『满足连续分红条件』，记为True；否则，记为 False。\n",
    "\n",
    "因此，我们实际上只需要关心数据中的 asset, end_date 和 ann_date 三列，并且，为了比较和查找方便，我们应该将后二者分别转换为 fiscal_year(整数，对应的财年)和 announc_ym (宣布分红的年月)。\n",
    "\n",
    "因此，我们要先进行以下转换："
   ]
  },
  {
   "cell_type": "code",
   "execution_count": 3,
   "id": "b105f8e3",
   "metadata": {},
   "outputs": [
    {
     "name": "stderr",
     "output_type": "stream",
     "text": [
      "\u001b[32m2025-09-08 20:47:16.520\u001b[0m | \u001b[1mINFO    \u001b[0m | \u001b[36mhelper\u001b[0m:\u001b[36mload_data\u001b[0m:\u001b[36m373\u001b[0m - \u001b[1m从缓存加载数据: 2018-02-01 到 2024-10-08\u001b[0m\n"
     ]
    },
    {
     "data": {
      "text/html": [
       "<div>\n",
       "<style scoped>\n",
       "    .dataframe tbody tr th:only-of-type {\n",
       "        vertical-align: middle;\n",
       "    }\n",
       "\n",
       "    .dataframe tbody tr th {\n",
       "        vertical-align: top;\n",
       "    }\n",
       "\n",
       "    .dataframe thead th {\n",
       "        text-align: right;\n",
       "    }\n",
       "</style>\n",
       "<table border=\"1\" class=\"dataframe\">\n",
       "  <thead>\n",
       "    <tr style=\"text-align: right;\">\n",
       "      <th></th>\n",
       "      <th></th>\n",
       "      <th>fiscal_year</th>\n",
       "    </tr>\n",
       "    <tr>\n",
       "      <th>asset</th>\n",
       "      <th>month</th>\n",
       "      <th></th>\n",
       "    </tr>\n",
       "  </thead>\n",
       "  <tbody>\n",
       "    <tr>\n",
       "      <th>600733.SH</th>\n",
       "      <th>2018-02</th>\n",
       "      <td>2018</td>\n",
       "    </tr>\n",
       "    <tr>\n",
       "      <th>600828.SH</th>\n",
       "      <th>2018-03</th>\n",
       "      <td>2018</td>\n",
       "    </tr>\n",
       "    <tr>\n",
       "      <th>002192.SZ</th>\n",
       "      <th>2018-04</th>\n",
       "      <td>2018</td>\n",
       "    </tr>\n",
       "    <tr>\n",
       "      <th>830799.BJ</th>\n",
       "      <th>2018-04</th>\n",
       "      <td>2018</td>\n",
       "    </tr>\n",
       "    <tr>\n",
       "      <th>601318.SH</th>\n",
       "      <th>2018-04</th>\n",
       "      <td>2018</td>\n",
       "    </tr>\n",
       "  </tbody>\n",
       "</table>\n",
       "</div>"
      ],
      "text/plain": [
       "                   fiscal_year\n",
       "asset     month               \n",
       "600733.SH 2018-02         2018\n",
       "600828.SH 2018-03         2018\n",
       "002192.SZ 2018-04         2018\n",
       "830799.BJ 2018-04         2018\n",
       "601318.SH 2018-04         2018"
      ]
     },
     "metadata": {},
     "output_type": "display_data"
    },
    {
     "data": {
      "text/html": [
       "<div>\n",
       "<style scoped>\n",
       "    .dataframe tbody tr th:only-of-type {\n",
       "        vertical-align: middle;\n",
       "    }\n",
       "\n",
       "    .dataframe tbody tr th {\n",
       "        vertical-align: top;\n",
       "    }\n",
       "\n",
       "    .dataframe thead th {\n",
       "        text-align: right;\n",
       "    }\n",
       "</style>\n",
       "<table border=\"1\" class=\"dataframe\">\n",
       "  <thead>\n",
       "    <tr style=\"text-align: right;\">\n",
       "      <th></th>\n",
       "      <th></th>\n",
       "      <th>fiscal_year</th>\n",
       "    </tr>\n",
       "    <tr>\n",
       "      <th>asset</th>\n",
       "      <th>month</th>\n",
       "      <th></th>\n",
       "    </tr>\n",
       "  </thead>\n",
       "  <tbody>\n",
       "    <tr>\n",
       "      <th rowspan=\"6\" valign=\"top\">000001.SZ</th>\n",
       "      <th>2019-03</th>\n",
       "      <td>2018</td>\n",
       "    </tr>\n",
       "    <tr>\n",
       "      <th>2020-02</th>\n",
       "      <td>2019</td>\n",
       "    </tr>\n",
       "    <tr>\n",
       "      <th>2021-02</th>\n",
       "      <td>2020</td>\n",
       "    </tr>\n",
       "    <tr>\n",
       "      <th>2022-03</th>\n",
       "      <td>2021</td>\n",
       "    </tr>\n",
       "    <tr>\n",
       "      <th>2023-03</th>\n",
       "      <td>2022</td>\n",
       "    </tr>\n",
       "    <tr>\n",
       "      <th>2024-03</th>\n",
       "      <td>2023</td>\n",
       "    </tr>\n",
       "  </tbody>\n",
       "</table>\n",
       "</div>"
      ],
      "text/plain": [
       "                   fiscal_year\n",
       "asset     month               \n",
       "000001.SZ 2019-03         2018\n",
       "          2020-02         2019\n",
       "          2021-02         2020\n",
       "          2022-03         2021\n",
       "          2023-03         2022\n",
       "          2024-03         2023"
      ]
     },
     "execution_count": 3,
     "metadata": {},
     "output_type": "execute_result"
    }
   ],
   "source": [
    "def pre_process(\n",
    "    store, start: datetime.date | None = None, end: datetime.date | None = None\n",
    "):\n",
    "    df = store.load_data(start or store.start, end or store.end)\n",
    "\n",
    "    df[\"end_date\"] = pd.to_datetime(df[\"end_date\"])\n",
    "    df[\"ann_date\"] = pd.to_datetime(df[\"ann_date\"])\n",
    "\n",
    "    df[\"fiscal_year\"] = df[\"end_date\"].dt.year\n",
    "    df[\"month\"] = df[\"ann_date\"].dt.to_period(\"M\")\n",
    "\n",
    "    # 某些个股在一个财年，可能会有多次分红，我们取最早的一次\n",
    "    (\n",
    "        df.sort_values([\"asset\", \"fiscal_year\", \"ann_date\"])\n",
    "        .groupby([\"asset\", \"fiscal_year\"], as_index=False)\n",
    "        .first()\n",
    "    )\n",
    "\n",
    "    cols = [\"asset\", \"month\", \"fiscal_year\"]\n",
    "    return df[cols].set_index([\"asset\", \"month\"])\n",
    "\n",
    "\n",
    "path = data_home / \"rw/dividend.parquet\"\n",
    "store = ParquetUnifiedStorage(store_path = path)\n",
    "\n",
    "df = pre_process(store)\n",
    "display(df.head())\n",
    "\n",
    "df.query(\"asset == '000001.SZ'\")\n"
   ]
  },
  {
   "cell_type": "markdown",
   "id": "785fd2dc",
   "metadata": {},
   "source": [
    "预处理的核心思想是把细粒度的时间数据转换成粗粒度的时间数据。这是月度回测中的核心技巧之一。在经过这样的转换之后，数据的查找、对齐和偏移计算就会易如反掌了。\n",
    "\n",
    "其它值得注意的地方是，有一些个股会在一个财年，多次分红。这种情况下，我们需要进行去重，只保留最早的分红信息，因为最早的这条分红信息就足以说明财年有分红了。\n",
    "\n",
    "这段示例的最后，我们截取了PAYH 的一小段记录。从这段记录，我们可以推断，在2022年3月之后直到当年底，我们都可以认为PAYH在2020年的2021年是满足连续两年都分红的条件的。但是，在2022年1月到2月，过去两年的财政年度是2020和2021年，但21年可能仍然会分红，只是财报暂时还没批露。这种情况下，我们应该认为 PAYH 是满足连续两年都分红的条件，还是不满足？ To be or not to be，这还真是一个问题。而研报并没有给出答案。\n",
    "\n",
    "在这里，我们只考虑大多数情况，那就是，如果是在当年的4月份前，未有分红记录的，只要前两年都有分红的，仍然按连续两年分红算。不过，凡事都有例外。好的公司年报预告会发得早；如果到了4月才发年报的，那么多数并不会有分红 -- 这相当于，如果倒数第三年、第二年经营业绩好，但倒数第一年经营业绩变差，我们必须延迟到4月底才能确认这一点。这会使得我们的策略引入一些不利的因素。\n",
    "\n",
    "\n",
    "\n",
    "\n",
    "\n",
    "## 连续两年分红的逻辑的代码实现\n",
    "\n",
    "刚刚我们对数据进行了一些预处理，在此基础上，讨论清楚了站在具体的时间节点上，『什么叫连续两年分红』。\n",
    "\n",
    "现在，我们如何将这个逻辑代码化？\n",
    "\n",
    "首先，明确我们的目标，是要得到这样一个输出：对每一个 asset的每一个month，存在一个标记(flag)，能指出该 asset 在该month 时，是否满足连续两年分红的条件。\n",
    "\n",
    "我们来看看这个结果表格应该长什么样："
   ]
  },
  {
   "cell_type": "code",
   "execution_count": 4,
   "id": "c257c127",
   "metadata": {},
   "outputs": [],
   "source": [
    "all_assets = df.index.levels[0].unique()\n",
    "months = df.index.levels[1].unique()\n",
    "\n",
    "all_months = pd.period_range(start=months.min(), end=months.max(), freq=\"M\")\n",
    "\n",
    "# 生成所有可能的(月份, 股票)组合作为基础索引\n",
    "index = pd.MultiIndex.from_product([all_assets, all_months], names=[\"asset\", \"month\"])\n",
    "\n",
    "# result_df 目前是一个空表格\n",
    "result_df = pd.DataFrame(columns=[\"flag\"], index=index)\n"
   ]
  },
  {
   "cell_type": "markdown",
   "id": "92427068",
   "metadata": {},
   "source": [
    "接下来，我们把前面得到的关于 fiscal_year 和 announce_ym 的表格展开到与上述 result_df 对齐。对齐之后，剩下的计算就会变成是从一个表格映射到另一个表格那样简单。"
   ]
  },
  {
   "cell_type": "code",
   "execution_count": 5,
   "id": "9eca211e",
   "metadata": {},
   "outputs": [
    {
     "data": {
      "text/html": [
       "<div>\n",
       "<style scoped>\n",
       "    .dataframe tbody tr th:only-of-type {\n",
       "        vertical-align: middle;\n",
       "    }\n",
       "\n",
       "    .dataframe tbody tr th {\n",
       "        vertical-align: top;\n",
       "    }\n",
       "\n",
       "    .dataframe thead th {\n",
       "        text-align: right;\n",
       "    }\n",
       "</style>\n",
       "<table border=\"1\" class=\"dataframe\">\n",
       "  <thead>\n",
       "    <tr style=\"text-align: right;\">\n",
       "      <th></th>\n",
       "      <th></th>\n",
       "      <th>fiscal_year</th>\n",
       "    </tr>\n",
       "    <tr>\n",
       "      <th>asset</th>\n",
       "      <th>month</th>\n",
       "      <th></th>\n",
       "    </tr>\n",
       "  </thead>\n",
       "  <tbody>\n",
       "    <tr>\n",
       "      <th rowspan=\"5\" valign=\"top\">920819.BJ</th>\n",
       "      <th>2024-06</th>\n",
       "      <td>2023.0</td>\n",
       "    </tr>\n",
       "    <tr>\n",
       "      <th>2024-07</th>\n",
       "      <td>2023.0</td>\n",
       "    </tr>\n",
       "    <tr>\n",
       "      <th>2024-08</th>\n",
       "      <td>2023.0</td>\n",
       "    </tr>\n",
       "    <tr>\n",
       "      <th>2024-09</th>\n",
       "      <td>2023.0</td>\n",
       "    </tr>\n",
       "    <tr>\n",
       "      <th>2024-10</th>\n",
       "      <td>2023.0</td>\n",
       "    </tr>\n",
       "  </tbody>\n",
       "</table>\n",
       "</div>"
      ],
      "text/plain": [
       "                   fiscal_year\n",
       "asset     month               \n",
       "920819.BJ 2024-06       2023.0\n",
       "          2024-07       2023.0\n",
       "          2024-08       2023.0\n",
       "          2024-09       2023.0\n",
       "          2024-10       2023.0"
      ]
     },
     "execution_count": 5,
     "metadata": {},
     "output_type": "execute_result"
    }
   ],
   "source": [
    "# 按结果表格进行索引展开\n",
    "expanded = pd.merge(\n",
    "    pd.DataFrame(index=index), df, how=\"left\", left_index=True, right_index=True\n",
    ")\n",
    "\n",
    "# 将 fiscal_year 前向填充\n",
    "expanded = expanded.groupby(level=\"asset\").ffill()\n",
    "expanded.tail()\n"
   ]
  },
  {
   "cell_type": "markdown",
   "id": "af24389d",
   "metadata": {},
   "source": [
    "现在，我们只需要对上述展开后的 dataframe，按 asset 进行 groupby，然后在每个分组中，启用一个大小为24的滑动窗口，再判断索引 month 是否在滑动窗口的 fiscal_year 集合内即可。"
   ]
  },
  {
   "cell_type": "code",
   "execution_count": 6,
   "id": "de9c43e8",
   "metadata": {},
   "outputs": [
    {
     "data": {
      "text/html": [
       "<div>\n",
       "<style scoped>\n",
       "    .dataframe tbody tr th:only-of-type {\n",
       "        vertical-align: middle;\n",
       "    }\n",
       "\n",
       "    .dataframe tbody tr th {\n",
       "        vertical-align: top;\n",
       "    }\n",
       "\n",
       "    .dataframe thead th {\n",
       "        text-align: right;\n",
       "    }\n",
       "</style>\n",
       "<table border=\"1\" class=\"dataframe\">\n",
       "  <thead>\n",
       "    <tr style=\"text-align: right;\">\n",
       "      <th></th>\n",
       "      <th></th>\n",
       "      <th>fiscal_year</th>\n",
       "      <th>consective_div</th>\n",
       "    </tr>\n",
       "    <tr>\n",
       "      <th>asset</th>\n",
       "      <th>month</th>\n",
       "      <th></th>\n",
       "      <th></th>\n",
       "    </tr>\n",
       "  </thead>\n",
       "  <tbody>\n",
       "    <tr>\n",
       "      <th rowspan=\"5\" valign=\"top\">920819.BJ</th>\n",
       "      <th>2024-06</th>\n",
       "      <td>2023.0</td>\n",
       "      <td>True</td>\n",
       "    </tr>\n",
       "    <tr>\n",
       "      <th>2024-07</th>\n",
       "      <td>2023.0</td>\n",
       "      <td>True</td>\n",
       "    </tr>\n",
       "    <tr>\n",
       "      <th>2024-08</th>\n",
       "      <td>2023.0</td>\n",
       "      <td>True</td>\n",
       "    </tr>\n",
       "    <tr>\n",
       "      <th>2024-09</th>\n",
       "      <td>2023.0</td>\n",
       "      <td>True</td>\n",
       "    </tr>\n",
       "    <tr>\n",
       "      <th>2024-10</th>\n",
       "      <td>2023.0</td>\n",
       "      <td>True</td>\n",
       "    </tr>\n",
       "  </tbody>\n",
       "</table>\n",
       "</div>"
      ],
      "text/plain": [
       "                   fiscal_year  consective_div\n",
       "asset     month                               \n",
       "920819.BJ 2024-06       2023.0            True\n",
       "          2024-07       2023.0            True\n",
       "          2024-08       2023.0            True\n",
       "          2024-09       2023.0            True\n",
       "          2024-10       2023.0            True"
      ]
     },
     "execution_count": 6,
     "metadata": {},
     "output_type": "execute_result"
    }
   ],
   "source": [
    "def calc_asset_flag(group: pd.DataFrame):\n",
    "    df = group.copy()\n",
    "\n",
    "    df[\"month_num\"] = df.index.levels[1].month\n",
    "    df[\"year\"] = df.index.levels[1].year\n",
    "\n",
    "    # 这里无法使用 rolling，因为 rolling 后面要跟聚合函数，不能返回 set\n",
    "    df[\"prev_fiscal_set\"] = [\n",
    "        set(df.iloc[max(0, i - 24) : i][\"fiscal_year\"]) for i in range(len(df))\n",
    "    ]\n",
    "\n",
    "    def calc_row_flag(row):\n",
    "        prev_fiscal = row[\"prev_fiscal_set\"]\n",
    "        month_num = row[\"month_num\"]\n",
    "        year = row[\"year\"]\n",
    "\n",
    "        if month_num > 4:  # 4月之后，必须最近两年财年都有分红\n",
    "            flag = ((year - 1) in prev_fiscal) and ((year - 2) in prev_fiscal)\n",
    "            return flag\n",
    "        else:  # 4月之前，最近两财年有分红，或者之前两个财年有分红。\n",
    "            flag = (((year - 1) in prev_fiscal) and ((year - 2) in prev_fiscal)) or (\n",
    "                ((year - 2) in prev_fiscal) and ((year - 3) in prev_fiscal)\n",
    "            )\n",
    "            return flag\n",
    "\n",
    "    df[\"consective_div\"] = df.apply(calc_row_flag, axis=1)\n",
    "\n",
    "    return df.drop(columns=[\"month_num\", \"year\", \"prev_fiscal_set\"]).droplevel(level=0)\n",
    "\n",
    "\n",
    "consective_div = expanded.groupby(level=\"asset\").apply(calc_asset_flag)\n",
    "consective_div.tail()\n"
   ]
  },
  {
   "cell_type": "markdown",
   "id": "7a7a4621",
   "metadata": {},
   "source": [
    "这段代码中，值得注意的地方有两处。首先，当提到『滚动』求值时，我们很容易想到使用滑动窗口。但在第7行处，我们使用循环，而不是rolling.apply 来找出对应行的前两年数值。因为 rolling.apply 一般应用于聚合操作，函数的返回值必须是数值型。\n",
    "\n",
    "第2点就是第29行，它实际上仍然是一个循环。考虑到 calc_row_flag 只是在行内进行比较操作，这里可以进一步优化，以启用并行机制。在我的电脑上，这段代码运行了13秒，速度还是有点慢的。\n",
    "\n",
    "如何验证这里的逻辑正确呢？对 PAYH，我们看到，从2020年3月起，每个月的 flag 都是1；这是正确的，因为它每一年都有分红。我们还找了一个反面的例子， 920819，这是它的分红记录："
   ]
  },
  {
   "cell_type": "code",
   "execution_count": 7,
   "id": "71e502b9",
   "metadata": {},
   "outputs": [
    {
     "name": "stderr",
     "output_type": "stream",
     "text": [
      "\u001b[32m2025-09-08 20:47:54.703\u001b[0m | \u001b[1mINFO    \u001b[0m | \u001b[36mtushare\u001b[0m:\u001b[36m_connect\u001b[0m:\u001b[36m29\u001b[0m - \u001b[1mConnected to server tushare:5290\u001b[0m\n"
     ]
    },
    {
     "data": {
      "text/html": [
       "<div>\n",
       "<style scoped>\n",
       "    .dataframe tbody tr th:only-of-type {\n",
       "        vertical-align: middle;\n",
       "    }\n",
       "\n",
       "    .dataframe tbody tr th {\n",
       "        vertical-align: top;\n",
       "    }\n",
       "\n",
       "    .dataframe thead th {\n",
       "        text-align: right;\n",
       "    }\n",
       "</style>\n",
       "<table border=\"1\" class=\"dataframe\">\n",
       "  <thead>\n",
       "    <tr style=\"text-align: right;\">\n",
       "      <th></th>\n",
       "      <th>ts_code</th>\n",
       "      <th>end_date</th>\n",
       "      <th>ann_date</th>\n",
       "    </tr>\n",
       "  </thead>\n",
       "  <tbody>\n",
       "    <tr>\n",
       "      <th>4</th>\n",
       "      <td>920819.BJ</td>\n",
       "      <td>20231231</td>\n",
       "      <td>20240426</td>\n",
       "    </tr>\n",
       "    <tr>\n",
       "      <th>5</th>\n",
       "      <td>920819.BJ</td>\n",
       "      <td>20230630</td>\n",
       "      <td>20230825</td>\n",
       "    </tr>\n",
       "    <tr>\n",
       "      <th>6</th>\n",
       "      <td>920819.BJ</td>\n",
       "      <td>20221231</td>\n",
       "      <td>20230401</td>\n",
       "    </tr>\n",
       "    <tr>\n",
       "      <th>7</th>\n",
       "      <td>920819.BJ</td>\n",
       "      <td>20220630</td>\n",
       "      <td>20220811</td>\n",
       "    </tr>\n",
       "    <tr>\n",
       "      <th>9</th>\n",
       "      <td>920819.BJ</td>\n",
       "      <td>20201231</td>\n",
       "      <td>20210401</td>\n",
       "    </tr>\n",
       "  </tbody>\n",
       "</table>\n",
       "</div>"
      ],
      "text/plain": [
       "     ts_code  end_date  ann_date\n",
       "4  920819.BJ  20231231  20240426\n",
       "5  920819.BJ  20230630  20230825\n",
       "6  920819.BJ  20221231  20230401\n",
       "7  920819.BJ  20220630  20220811\n",
       "9  920819.BJ  20201231  20210401"
      ]
     },
     "execution_count": 7,
     "metadata": {},
     "output_type": "execute_result"
    }
   ],
   "source": [
    "df_ = ts.pro_api().dividend(ts_code=\"920819.BJ\")\n",
    "df_[df_.div_proc == \"实施\"][[\"ts_code\", \"end_date\", \"ann_date\"]]\n"
   ]
  },
  {
   "cell_type": "markdown",
   "id": "a779ba95",
   "metadata": {},
   "source": [
    "它在2020， 2022， 2024年都有分红，但在2021年没有分红（有预案，但没有通过）。所以，只有从2024年1月起，『连续两年分红』查询才显示它满足条件。\n",
    "\n",
    "## 应用分红筛选"
   ]
  },
  {
   "cell_type": "code",
   "execution_count": 16,
   "id": "a35a027e",
   "metadata": {},
   "outputs": [
    {
     "name": "stderr",
     "output_type": "stream",
     "text": [
      "\u001b[32m2025-09-08 21:14:30.490\u001b[0m | \u001b[1mINFO    \u001b[0m | \u001b[36mhelper\u001b[0m:\u001b[36mload_data\u001b[0m:\u001b[36m390\u001b[0m - \u001b[1m获取开始日期前缺失的数据: 2018-01-01 到 2018-01-01\u001b[0m\n",
      "\u001b[32m2025-09-08 21:14:30.493\u001b[0m | \u001b[1mINFO    \u001b[0m | \u001b[36mtushare\u001b[0m:\u001b[36m_connect\u001b[0m:\u001b[36m29\u001b[0m - \u001b[1mConnected to server tushare:5290\u001b[0m\n",
      "\u001b[32m2025-09-08 21:14:30.817\u001b[0m | \u001b[1mINFO    \u001b[0m | \u001b[36mhelper\u001b[0m:\u001b[36mload_data\u001b[0m:\u001b[36m401\u001b[0m - \u001b[1m获取结束日期后缺失的数据: 2023-12-30 到 2023-12-31\u001b[0m\n",
      "\u001b[32m2025-09-08 21:14:30.819\u001b[0m | \u001b[1mINFO    \u001b[0m | \u001b[36mhelper\u001b[0m:\u001b[36mload_data\u001b[0m:\u001b[36m438\u001b[0m - \u001b[1m请求的数据已全部在缓存中\u001b[0m\n",
      "\u001b[32m2025-09-08 21:14:35.492\u001b[0m | \u001b[1mINFO    \u001b[0m | \u001b[36mhelper\u001b[0m:\u001b[36mload_data\u001b[0m:\u001b[36m390\u001b[0m - \u001b[1m获取开始日期前缺失的数据: 2018-01-01 到 2018-01-01\u001b[0m\n",
      "\u001b[32m2025-09-08 21:14:35.495\u001b[0m | \u001b[1mINFO    \u001b[0m | \u001b[36mtushare\u001b[0m:\u001b[36m_connect\u001b[0m:\u001b[36m29\u001b[0m - \u001b[1mConnected to server tushare:5290\u001b[0m\n",
      "\u001b[32m2025-09-08 21:14:39.200\u001b[0m | \u001b[1mINFO    \u001b[0m | \u001b[36mhelper\u001b[0m:\u001b[36mload_data\u001b[0m:\u001b[36m401\u001b[0m - \u001b[1m获取结束日期后缺失的数据: 2023-12-30 到 2023-12-31\u001b[0m\n",
      "\u001b[32m2025-09-08 21:14:39.201\u001b[0m | \u001b[1mINFO    \u001b[0m | \u001b[36mhelper\u001b[0m:\u001b[36mload_data\u001b[0m:\u001b[36m438\u001b[0m - \u001b[1m请求的数据已全部在缓存中\u001b[0m\n",
      "\u001b[32m2025-09-08 21:14:41.645\u001b[0m | \u001b[1mINFO    \u001b[0m | \u001b[36mhelper\u001b[0m:\u001b[36mdividend_yield_screen\u001b[0m:\u001b[36m267\u001b[0m - \u001b[1m开始进行股息率筛选...\u001b[0m\n",
      "\u001b[32m2025-09-08 21:14:41.692\u001b[0m | \u001b[1mINFO    \u001b[0m | \u001b[36mhelper\u001b[0m:\u001b[36mdividend_yield_screen\u001b[0m:\u001b[36m281\u001b[0m - \u001b[1m已筛选出前500名股息率股\u001b[0m\n",
      "\u001b[32m2025-09-08 21:14:41.697\u001b[0m | \u001b[1mINFO    \u001b[0m | \u001b[36mmoonshot\u001b[0m:\u001b[36mscreen\u001b[0m:\u001b[36m185\u001b[0m - \u001b[1mdividend_yield_screen 筛选结果：\n",
      "                    open  close  flag  dv_ttm consective_div\n",
      "month   asset                                               \n",
      "2018-01 000001.SZ  13.35  14.05     1  1.1246            NaN\n",
      "        000002.SZ  31.45  37.56     1  2.1033            NaN\n",
      "        000004.SZ  22.29  20.20     1     NaN            NaN\n",
      "        000005.SZ   4.15   4.03     1     NaN            NaN\n",
      "        000008.SZ   8.75   8.28     1  0.1204            NaN\n",
      "...                  ...    ...   ...     ...            ...\n",
      "2023-12 920445.BJ   6.50   8.18     1     NaN           True\n",
      "        920489.BJ   5.54   7.82     1     NaN           True\n",
      "        920682.BJ   7.12   8.95     1     NaN           True\n",
      "        920799.BJ  10.25  13.40     1     NaN           True\n",
      "        920819.BJ   4.44   4.60     1     NaN          False\n",
      "\n",
      "[311673 rows x 5 columns]\u001b[0m\n",
      "\u001b[32m2025-09-08 21:14:41.718\u001b[0m | \u001b[1mINFO    \u001b[0m | \u001b[36mmoonshot\u001b[0m:\u001b[36mscreen\u001b[0m:\u001b[36m185\u001b[0m - \u001b[1mconsective_dividend_screen 筛选结果：\n",
      "                    open  close  flag  dv_ttm consective_div\n",
      "month   asset                                               \n",
      "2018-02 000002.SZ  37.50  32.70     1  2.4159          False\n",
      "        000027.SZ   6.09   5.65     1  2.6549          False\n",
      "        000030.SZ   8.03   7.45     1  2.6846          False\n",
      "        000036.SZ  11.16   9.36     1  3.2051          False\n",
      "        000055.SZ   8.85   8.55     1  2.7290          False\n",
      "...                  ...    ...   ...     ...            ...\n",
      "2023-12 605336.SH  15.48  14.88     1  4.6841           True\n",
      "        605368.SH  10.70  10.77     1  6.6322           True\n",
      "        605507.SH  19.52  17.56     1  3.4169           True\n",
      "        605580.SH  12.02  11.62     1  3.6882           True\n",
      "        605599.SH  13.48  14.89     1  3.0893           True\n",
      "\n",
      "[35497 rows x 5 columns]\u001b[0m\n"
     ]
    },
    {
     "data": {
      "text/plain": [
       "<moonshot.Moonshot at 0x13d639c70>"
      ]
     },
     "execution_count": 16,
     "metadata": {},
     "output_type": "execute_result"
    }
   ],
   "source": [
    "def consective_dividend_screen(data: pd.DataFrame):\n",
    "    return data.consective_div\n",
    "\n",
    "start = datetime.date(2018, 1, 1)\n",
    "end = datetime.date(2023, 12, 31)\n",
    "\n",
    "store_path = data_home / \"rw/bars.parquet\"\n",
    "bars_store = ParquetUnifiedStorage(store_path=store_path, fetch_data_func=fetch_bars)\n",
    "\n",
    "barss = bars_store.load_data(start, end)\n",
    "ms = Moonshot(barss)\n",
    "\n",
    "# 把上一节股息率数据导入\n",
    "store_path = data_home / \"rw/dv_ttm.parquet\"\n",
    "dv_store = ParquetUnifiedStorage(store_path = store_path, fetch_data_func=fetch_dv_ttm)\n",
    "\n",
    "dv_ttm = dv_store.load_data(start, end)\n",
    "\n",
    "ms.append_factor(dv_ttm, \"dv_ttm\", resample_method = 'last')\n",
    "\n",
    "ms.append_factor(consective_div, \"consective_div\")\n",
    "\n",
    "# 筛选、回测、报告\n",
    "(\n",
    "    ms.screen(dividend_yield_screen, data=ms.data, n=500)\n",
    "    .screen(consective_dividend_screen, data = ms.data)\n",
    "    .calculate_returns()\n",
    "    .report(output = \"v4.html\")\n",
    ")\n"
   ]
  },
  {
   "cell_type": "code",
   "execution_count": 11,
   "id": "7af34ef9",
   "metadata": {},
   "outputs": [],
   "source": [
    "screener = partial(lambda df: df.consective_div, ms.data)\n"
   ]
  }
 ],
 "metadata": {
  "kernelspec": {
   "display_name": "zillionare",
   "language": "python",
   "name": "python3"
  },
  "language_info": {
   "name": "python",
   "version": "3.12.11"
  }
 },
 "nbformat": 4,
 "nbformat_minor": 5
}
